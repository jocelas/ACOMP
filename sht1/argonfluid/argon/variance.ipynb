{
 "cells": [
  {
   "cell_type": "markdown",
   "metadata": {},
   "source": [
    "# Variance of independent samples\n",
    "\n",
    "For independent samples, where an observable $A$ is measured at each timestep $i$, the variances should be on average equally distributed.\n",
    "This means, when we have a total of $n$ steps, and block them into blocks of size $m$, then we can take the variance of the individual blocks, $A^{(m)}$. These should scale as\n",
    "\n",
    "$$\n",
    "\\mathrm{Var}(A^{(m)}) = \\frac{1}{m} \\mathrm{Var}(A)\n",
    "$$\n",
    "\n",
    "We try to demonstrate this by just taking samples from a Gaussian distribution."
   ]
  },
  {
   "cell_type": "code",
   "execution_count": 1,
   "metadata": {},
   "outputs": [],
   "source": [
    "import numpy as np\n",
    "import matplotlib.pyplot as plt"
   ]
  },
  {
   "cell_type": "code",
   "execution_count": 66,
   "metadata": {},
   "outputs": [
    {
     "name": "stdout",
     "output_type": "stream",
     "text": [
      "0.9998182676231091\n"
     ]
    }
   ],
   "source": [
    "n = 1000000\n",
    "\n",
    "m = 10\n",
    "\n",
    "A = np.random.normal(0,1,size=(n))\n",
    "\n",
    "Am = np.reshape(A, (-1,m))\n",
    "\n",
    "Am_average = Am.mean(axis=1)\n",
    "\n",
    "print(np.var(Am_average)*m)"
   ]
  }
 ],
 "metadata": {
  "kernelspec": {
   "display_name": "base",
   "language": "python",
   "name": "python3"
  },
  "language_info": {
   "codemirror_mode": {
    "name": "ipython",
    "version": 3
   },
   "file_extension": ".py",
   "mimetype": "text/x-python",
   "name": "python",
   "nbconvert_exporter": "python",
   "pygments_lexer": "ipython3",
   "version": "3.9.13"
  }
 },
 "nbformat": 4,
 "nbformat_minor": 2
}
