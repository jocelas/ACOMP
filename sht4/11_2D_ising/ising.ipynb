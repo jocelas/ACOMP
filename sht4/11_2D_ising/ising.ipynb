{
 "cells": [
  {
   "cell_type": "code",
   "execution_count": 38,
   "metadata": {},
   "outputs": [],
   "source": [
    "import numpy as np\n",
    "import matplotlib.pyplot as plt\n",
    "import matplotlib.animation as anim\n",
    "from isingm import *"
   ]
  },
  {
   "cell_type": "code",
   "execution_count": 7,
   "metadata": {},
   "outputs": [],
   "source": [
    "def mc_ising(steps:int, n,j,T,a_in, skipsteps = 1, frames = 100, annealing = False):\n",
    "\n",
    "    if annealing and T < 2.269:\n",
    "        initialTemp = 4\n",
    "        finalTemp = T\n",
    "\n",
    "    def TempFuncExp(step):\n",
    "        return initialTemp * (finalTemp / initialTemp)**(step/steps)\n",
    "    \n",
    "    def TempFuncInverse(step):\n",
    "        alpha = (initialTemp - finalTemp) / (finalTemp * (steps - 1))\n",
    "        return initialTemp / (1 + alpha * step)\n",
    "    \n",
    "    stepSaveFrame = steps/frames\n",
    "\n",
    "    a = a_in.copy()\n",
    "\n",
    "    energies = np.empty(steps//skipsteps)\n",
    "    magnetizations = np.empty(steps//skipsteps)\n",
    "\n",
    "    E = energy(a,j)\n",
    "    M = magnetization(a)\n",
    "\n",
    "    #data = []\n",
    "\n",
    "\n",
    "    if annealing and T < 2.269:\n",
    "        for i in range(steps):\n",
    "            if i % skipsteps == 0:\n",
    "                energies[i//skipsteps] = E\n",
    "                magnetizations[i//skipsteps] = M\n",
    "\n",
    "\n",
    "            \n",
    "            # if i % stepSaveFrame == 0:\n",
    "            #     data.append(a.copy())\n",
    "\n",
    "            x = np.random.randint(0,n)\n",
    "            y = np.random.randint(0,n)\n",
    "\n",
    "            b = a.copy()\n",
    "            b[x,y] *= -1\n",
    "            \n",
    "            \n",
    "            spinChange = b[x,y] - a[x,y]\n",
    "            dE = -j*(spinChange)*(a[x,(y+1)%n] + a[(x+1)%n,y] + a[x,y-1] + a[x-1,y])\n",
    "            dM = spinChange\n",
    "\n",
    "            if dE <= 0 or np.random.rand() <= np.exp(-dE * (TempFuncExp(i)**(-1))):\n",
    "                E += dE\n",
    "                M += dM\n",
    "                a = b.copy()\n",
    "\n",
    "        return np.arange(steps//skipsteps), energies, magnetizations#, np.array(data)\n",
    "    else:\n",
    "        probs = probabilities(j,T)\n",
    "        for i in range(steps):\n",
    "            if i % skipsteps == 0:\n",
    "                energies[i//skipsteps] = E\n",
    "                magnetizations[i//skipsteps] = M\n",
    "\n",
    "\n",
    "            \n",
    "            # if i % stepSaveFrame == 0:\n",
    "            #     data.append(a.copy())\n",
    "\n",
    "            x = np.random.randint(0,n)\n",
    "            y = np.random.randint(0,n)\n",
    "\n",
    "            b = a.copy()\n",
    "            b[x,y] *= -1\n",
    "            \n",
    "            \n",
    "            spinChange = b[x,y] - a[x,y]\n",
    "            dE = -j*(spinChange)*(a[x,(y+1)%n] + a[(x+1)%n,y] + a[x,y-1] + a[x-1,y])\n",
    "            dM = spinChange\n",
    "\n",
    "            if dE <= 0 or np.random.rand() <= probs[dE]:\n",
    "                E += dE\n",
    "                M += dM\n",
    "                a = b.copy()\n",
    "\n",
    "        return np.arange(steps//skipsteps), energies, magnetizations#, np.array(data)"
   ]
  },
  {
   "cell_type": "code",
   "execution_count": 11,
   "metadata": {},
   "outputs": [
    {
     "data": {
      "image/png": "[encoded data removed]",
      "text/plain": [
       "<Figure size 640x480 with 1 Axes>"
      ]
     },
     "metadata": {},
     "output_type": "display_data"
    }
   ],
   "source": [
    "n = 64\n",
    "a_in = randominitial(n)\n",
    "steps = 1e5\n",
    "T = 0.1\n",
    "\n",
    "step, u, m = mc_ising(int(steps), n, 1, T, a_in, skipsteps= 8, frames = 100, annealing=False)\n",
    "plt.plot(step, m/n**2)\n",
    "plt.plot(step, u/n**2)\n",
    "plt.show()\n",
    "\n",
    "#animate(a, 'standrad.mp4', 20)"
   ]
  },
  {
   "cell_type": "code",
   "execution_count": 12,
   "metadata": {},
   "outputs": [
    {
     "data": {
      "text/plain": [
       "12500"
      ]
     },
     "execution_count": 12,
     "metadata": {},
     "output_type": "execute_result"
    }
   ],
   "source": [
    "len(m)"
   ]
  },
  {
   "cell_type": "code",
   "execution_count": 42,
   "metadata": {},
   "outputs": [
    {
     "name": "stdout",
     "output_type": "stream",
     "text": [
      "runnig with temperature 0.1\n"
     ]
    },
    {
     "ename": "NameError",
     "evalue": "name 'all_up' is not defined",
     "output_type": "error",
     "traceback": [
      "\u001b[1;31m---------------------------------------------------------------------------\u001b[0m",
      "\u001b[1;31mNameError\u001b[0m                                 Traceback (most recent call last)",
      "Cell \u001b[1;32mIn[42], line 9\u001b[0m\n\u001b[0;32m      6\u001b[0m \u001b[38;5;28mprint\u001b[39m(\u001b[38;5;124mf\u001b[39m\u001b[38;5;124m\"\u001b[39m\u001b[38;5;124mrunnig with temperature \u001b[39m\u001b[38;5;132;01m{\u001b[39;00mtemperature\u001b[38;5;132;01m}\u001b[39;00m\u001b[38;5;124m\"\u001b[39m)\n\u001b[0;32m      8\u001b[0m n \u001b[38;5;241m=\u001b[39m \u001b[38;5;241m40\u001b[39m\n\u001b[1;32m----> 9\u001b[0m a_in \u001b[38;5;241m=\u001b[39m \u001b[43mall_up\u001b[49m(n)\n\u001b[0;32m     10\u001b[0m steps \u001b[38;5;241m=\u001b[39m \u001b[38;5;241m1e6\u001b[39m\n\u001b[0;32m     12\u001b[0m step, u, mag \u001b[38;5;241m=\u001b[39m mc_ising(\u001b[38;5;28mint\u001b[39m(steps), n, \u001b[38;5;241m1\u001b[39m, temperature, a_in, skipsteps\u001b[38;5;241m=\u001b[39m \u001b[38;5;241m1\u001b[39m, frames \u001b[38;5;241m=\u001b[39m \u001b[38;5;241m1\u001b[39m, annealing\u001b[38;5;241m=\u001b[39m\u001b[38;5;28;01mTrue\u001b[39;00m)\n",
      "\u001b[1;31mNameError\u001b[0m: name 'all_up' is not defined"
     ]
    }
   ],
   "source": [
    "temperatures = [.1,.5, 1.0, 1.5, 1.75, 2.0, 2.1, 2.2,2.3,2.6]\n",
    "magnetizationAverage = []\n",
    "\n",
    "for temperature in temperatures:\n",
    "\n",
    "    print(f\"runnig with temperature {temperature}\")\n",
    "\n",
    "    n = 40\n",
    "    a_in = all_up(n)\n",
    "    steps = 1e6\n",
    "\n",
    "    step, u, mag = mc_ising(int(steps), n, 1, temperature, a_in, skipsteps= 1, frames = 1, annealing=True)\n",
    "\n",
    "    magnetizationAverage.append(np.mean(mag[-1000:]))"
   ]
  },
  {
   "cell_type": "code",
   "execution_count": 17,
   "metadata": {},
   "outputs": [],
   "source": [
    "magnetizationAverage_perParticle = np.asarray(magnetizationAverage)/(n*n)\n",
    "\n",
    "np.savetxt(\"magnetizations_vs_temperatures\", np.array([temperatures, magnetizationAverage_perParticle]).transpose(), header=\"#Temperature, magnetization\")"
   ]
  },
  {
   "cell_type": "code",
   "execution_count": 33,
   "metadata": {},
   "outputs": [],
   "source": [
    "def analytical_magnetization(Temperature):\n",
    "    Temperature = np.asarray(Temperature)\n",
    "\n",
    "    result = np.zeros_like(Temperature)\n",
    "\n",
    "    below_critical = Temperature <= 2.2691853142\n",
    "\n",
    "    result[below_critical] = (1- (np.sinh(2/(Temperature[below_critical]+1e-12)))**(-4))**(1/8)\n",
    "\n",
    "    return result"
   ]
  },
  {
   "cell_type": "code",
   "execution_count": 36,
   "metadata": {},
   "outputs": [
    {
     "name": "stderr",
     "output_type": "stream",
     "text": [
      "C:\\Users\\jonas\\AppData\\Local\\Temp\\ipykernel_12616\\1931414942.py:8: RuntimeWarning: overflow encountered in sinh\n",
      "  result[below_critical] = (1- (np.sinh(2/(Temperature[below_critical]+1e-12)))**(-4))**(1/8)\n"
     ]
    },
    {
     "data": {
      "text/plain": [
       "<matplotlib.collections.PathCollection at 0x24906459d80>"
      ]
     },
     "execution_count": 36,
     "metadata": {},
     "output_type": "execute_result"
    },
    {
     "data": {
      "image/png": "[encoded data removed]",
      "text/plain": [
       "<Figure size 640x480 with 1 Axes>"
      ]
     },
     "metadata": {},
     "output_type": "display_data"
    }
   ],
   "source": [
    "Temperature_analytical = np.arange(0,3,0.01)\n",
    "\n",
    "plt.plot(Temperature_analytical, analytical_magnetization(Temperature_analytical))\n",
    "plt.scatter(temperatures, -magnetizationAverage_perParticle)"
   ]
  }
 ],
 "metadata": {
  "kernelspec": {
   "display_name": "Python 3",
   "language": "python",
   "name": "python3"
  },
  "language_info": {
   "codemirror_mode": {
    "name": "ipython",
    "version": 3
   },
   "file_extension": ".py",
   "mimetype": "text/x-python",
   "name": "python",
   "nbconvert_exporter": "python",
   "pygments_lexer": "ipython3",
   "version": "3.10.11"
  }
 },
 "nbformat": 4,
 "nbformat_minor": 2
}
