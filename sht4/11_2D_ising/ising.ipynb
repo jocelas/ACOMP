{
 "cells": [
  {
   "cell_type": "code",
   "execution_count": 7,
   "metadata": {},
   "outputs": [],
   "source": [
    "import numpy as np\n",
    "import matplotlib.pyplot as plt\n",
    "import matplotlib.animation as anim\n",
    "from isingm import *"
   ]
  },
  {
   "cell_type": "code",
   "execution_count": 8,
   "metadata": {},
   "outputs": [],
   "source": [
    "def mc_ising(steps:int, n,j,T,a_in, skipsteps = 1, frames = 100, annealing = False):\n",
    "\n",
    "    if annealing and T < 2.269:\n",
    "        initialTemp = 4\n",
    "        finalTemp = T\n",
    "\n",
    "    def TempFuncExp(step):\n",
    "        return initialTemp * (finalTemp / initialTemp)**(step/steps)\n",
    "    \n",
    "    def TempFuncInverse(step):\n",
    "        alpha = (initialTemp - finalTemp) / (finalTemp * (steps - 1))\n",
    "        return initialTemp / (1 + alpha * step)\n",
    "    \n",
    "    stepSaveFrame = steps/frames\n",
    "\n",
    "    a = a_in.copy()\n",
    "\n",
    "    energies = np.empty(steps//skipsteps)\n",
    "    magnetizations = np.empty(steps//skipsteps)\n",
    "\n",
    "    E = energy(a,j)\n",
    "    M = magnetization(a)\n",
    "\n",
    "    #data = []\n",
    "\n",
    "\n",
    "    if annealing and T < 2.269:\n",
    "        for i in range(steps):\n",
    "            if i % skipsteps == 0:\n",
    "                energies[i//skipsteps] = E\n",
    "                magnetizations[i//skipsteps] = M\n",
    "\n",
    "\n",
    "            \n",
    "            # if i % stepSaveFrame == 0:\n",
    "            #     data.append(a.copy())\n",
    "\n",
    "            x = np.random.randint(0,n)\n",
    "            y = np.random.randint(0,n)\n",
    "\n",
    "            b = a.copy()\n",
    "            b[x,y] *= -1\n",
    "            \n",
    "            \n",
    "            spinChange = b[x,y] - a[x,y]\n",
    "            dE = -j*(spinChange)*(a[x,(y+1)%n] + a[(x+1)%n,y] + a[x,y-1] + a[x-1,y])\n",
    "            dM = spinChange\n",
    "\n",
    "            if dE <= 0 or np.random.rand() <= np.exp(-dE * (TempFuncExp(i)**(-1))):\n",
    "                E += dE\n",
    "                M += dM\n",
    "                a = b.copy()\n",
    "\n",
    "        return np.arange(steps//skipsteps), energies, magnetizations#, np.array(data)\n",
    "    else:\n",
    "        probs = probabilities(j,T)\n",
    "        for i in range(steps):\n",
    "            if i % skipsteps == 0:\n",
    "                energies[i//skipsteps] = E\n",
    "                magnetizations[i//skipsteps] = M\n",
    "\n",
    "\n",
    "            \n",
    "            # if i % stepSaveFrame == 0:\n",
    "            #     data.append(a.copy())\n",
    "\n",
    "            x = np.random.randint(0,n)\n",
    "            y = np.random.randint(0,n)\n",
    "\n",
    "            b = a.copy()\n",
    "            b[x,y] *= -1\n",
    "            \n",
    "            \n",
    "            spinChange = b[x,y] - a[x,y]\n",
    "            dE = -j*(spinChange)*(a[x,(y+1)%n] + a[(x+1)%n,y] + a[x,y-1] + a[x-1,y])\n",
    "            dM = spinChange\n",
    "\n",
    "            if dE <= 0 or np.random.rand() <= probs[dE]:\n",
    "                E += dE\n",
    "                M += dM\n",
    "                a = b.copy()\n",
    "\n",
    "        return np.arange(steps//skipsteps), energies, magnetizations#, np.array(data)"
   ]
  },
  {
   "cell_type": "code",
   "execution_count": 9,
   "metadata": {},
   "outputs": [
    {
     "data": {
      "image/png": "[encoded data removed]",
      "text/plain": [
       "<Figure size 640x480 with 1 Axes>"
      ]
     },
     "metadata": {},
     "output_type": "display_data"
    }
   ],
   "source": [
    "n = 64\n",
    "a_in = randominitial(n)\n",
    "steps = 1e5\n",
    "T = 0.1\n",
    "\n",
    "step, u, m = mc_ising(int(steps), n, 1, T, a_in, skipsteps= 8, frames = 100, annealing=False)\n",
    "plt.plot(step, m/n**2)\n",
    "plt.plot(step, u/n**2)\n",
    "plt.show()\n",
    "\n",
    "#animate(a, 'standrad.mp4', 20)"
   ]
  },
  {
   "cell_type": "code",
   "execution_count": null,
   "metadata": {},
   "outputs": [],
   "source": [
    "temperatures = [.1,.5, 1.0, 1.5, 1.75, 2.0, 2.1, 2.2,2.3,2.6]\n",
    "magnetizationAverage = []\n",
    "magnetizationError = []"
   ]
  },
  {
   "cell_type": "code",
   "execution_count": null,
   "metadata": {},
   "outputs": [
    {
     "name": "stdout",
     "output_type": "stream",
     "text": [
      "runnig with temperature 0.1\n",
      "runnig with temperature 0.5\n",
      "runnig with temperature 1.0\n",
      "runnig with temperature 1.5\n",
      "runnig with temperature 1.75\n"
     ]
    },
    {
     "ename": "KeyboardInterrupt",
     "evalue": "",
     "output_type": "error",
     "traceback": [
      "\u001b[0;31m---------------------------------------------------------------------------\u001b[0m",
      "\u001b[0;31mKeyboardInterrupt\u001b[0m                         Traceback (most recent call last)",
      "Cell \u001b[0;32mIn[11], line 9\u001b[0m\n\u001b[1;32m      6\u001b[0m a_in \u001b[38;5;241m=\u001b[39m all_up(n)\n\u001b[1;32m      7\u001b[0m steps \u001b[38;5;241m=\u001b[39m \u001b[38;5;241m1e6\u001b[39m\n\u001b[0;32m----> 9\u001b[0m step, u, mag \u001b[38;5;241m=\u001b[39m \u001b[43mmc_ising\u001b[49m\u001b[43m(\u001b[49m\u001b[38;5;28;43mint\u001b[39;49m\u001b[43m(\u001b[49m\u001b[43msteps\u001b[49m\u001b[43m)\u001b[49m\u001b[43m,\u001b[49m\u001b[43m \u001b[49m\u001b[43mn\u001b[49m\u001b[43m,\u001b[49m\u001b[43m \u001b[49m\u001b[38;5;241;43m1\u001b[39;49m\u001b[43m,\u001b[49m\u001b[43m \u001b[49m\u001b[43mtemperature\u001b[49m\u001b[43m,\u001b[49m\u001b[43m \u001b[49m\u001b[43ma_in\u001b[49m\u001b[43m,\u001b[49m\u001b[43m \u001b[49m\u001b[43mskipsteps\u001b[49m\u001b[38;5;241;43m=\u001b[39;49m\u001b[43m \u001b[49m\u001b[38;5;241;43m1\u001b[39;49m\u001b[43m,\u001b[49m\u001b[43m \u001b[49m\u001b[43mframes\u001b[49m\u001b[43m \u001b[49m\u001b[38;5;241;43m=\u001b[39;49m\u001b[43m \u001b[49m\u001b[38;5;241;43m1\u001b[39;49m\u001b[43m,\u001b[49m\u001b[43m \u001b[49m\u001b[43mannealing\u001b[49m\u001b[38;5;241;43m=\u001b[39;49m\u001b[38;5;28;43;01mTrue\u001b[39;49;00m\u001b[43m)\u001b[49m\n\u001b[1;32m     11\u001b[0m magnetizationAverage\u001b[38;5;241m.\u001b[39mappend(np\u001b[38;5;241m.\u001b[39mmean(mag[\u001b[38;5;241m-\u001b[39m\u001b[38;5;241m1000\u001b[39m:]))\n",
      "Cell \u001b[0;32mIn[8], line 52\u001b[0m, in \u001b[0;36mmc_ising\u001b[0;34m(steps, n, j, T, a_in, skipsteps, frames, annealing)\u001b[0m\n\u001b[1;32m     50\u001b[0m             E \u001b[38;5;241m+\u001b[39m\u001b[38;5;241m=\u001b[39m dE\n\u001b[1;32m     51\u001b[0m             M \u001b[38;5;241m+\u001b[39m\u001b[38;5;241m=\u001b[39m dM\n\u001b[0;32m---> 52\u001b[0m             a \u001b[38;5;241m=\u001b[39m b\u001b[38;5;241m.\u001b[39mcopy()\n\u001b[1;32m     54\u001b[0m     \u001b[38;5;28;01mreturn\u001b[39;00m np\u001b[38;5;241m.\u001b[39marange(steps\u001b[38;5;241m/\u001b[39m\u001b[38;5;241m/\u001b[39mskipsteps), energies, magnetizations\u001b[38;5;66;03m#, np.array(data)\u001b[39;00m\n\u001b[1;32m     55\u001b[0m \u001b[38;5;28;01melse\u001b[39;00m:\n",
      "\u001b[0;31mKeyboardInterrupt\u001b[0m: "
     ]
    }
   ],
   "source": [
    "\n",
    "for temperature in temperatures:\n",
    "\n",
    "    print(f\"runnig with temperature {temperature}\")\n",
    "\n",
    "    n = 40\n",
    "    a_in = all_up(n)\n",
    "    steps = 1e6\n",
    "\n",
    "    step, u, mag = mc_ising(int(steps), n, 1, temperature, a_in, skipsteps= 1, frames = 1, annealing=True)\n",
    "\n",
    "    magnetizationAverage.append(np.mean(mag[-1000:]))\n",
    "    magnetizationError.append(np.std(mag[-1000:], ddof= 1)/np.sqrt(1000))"
   ]
  },
  {
   "cell_type": "code",
   "execution_count": null,
   "metadata": {},
   "outputs": [],
   "source": [
    "magnetizationAverage_perParticle = np.asarray(magnetizationAverage)/(n*n)\n",
    "magnetizationError_perParticle = np.asarray(magnetizationError)/(n*n)\n",
    "\n",
    "np.savetxt(\"magnetizations_vs_temperatures\", np.array([temperatures, magnetizationAverage_perParticle, magnetizationError_perParticle]).transpose(), header=\"Temperature, magnetization, Error\")"
   ]
  },
  {
   "cell_type": "code",
   "execution_count": null,
   "metadata": {},
   "outputs": [],
   "source": [
    "def analytical_magnetization(Temperature):\n",
    "    Temperature = np.asarray(Temperature)\n",
    "\n",
    "    result = np.zeros_like(Temperature)\n",
    "\n",
    "    below_critical = Temperature <= 2.2691853142\n",
    "\n",
    "    result[below_critical] = (1- (np.sinh(2/(Temperature[below_critical]+1e-12)))**(-4))**(1/8)\n",
    "\n",
    "    return result"
   ]
  },
  {
   "cell_type": "code",
   "execution_count": null,
   "metadata": {},
   "outputs": [
    {
     "name": "stderr",
     "output_type": "stream",
     "text": [
      "/tmp/ipykernel_2878/1931414942.py:8: RuntimeWarning: overflow encountered in sinh\n",
      "  result[below_critical] = (1- (np.sinh(2/(Temperature[below_critical]+1e-12)))**(-4))**(1/8)\n"
     ]
    },
    {
     "ename": "NameError",
     "evalue": "name 'magnetizationAverage_perParticle' is not defined",
     "output_type": "error",
     "traceback": [
      "\u001b[0;31m---------------------------------------------------------------------------\u001b[0m",
      "\u001b[0;31mNameError\u001b[0m                                 Traceback (most recent call last)",
      "Cell \u001b[0;32mIn[6], line 4\u001b[0m\n\u001b[1;32m      1\u001b[0m Temperature_analytical \u001b[38;5;241m=\u001b[39m np\u001b[38;5;241m.\u001b[39marange(\u001b[38;5;241m0\u001b[39m,\u001b[38;5;241m3\u001b[39m,\u001b[38;5;241m0.01\u001b[39m)\n\u001b[1;32m      3\u001b[0m plt\u001b[38;5;241m.\u001b[39mplot(Temperature_analytical, analytical_magnetization(Temperature_analytical))\n\u001b[0;32m----> 4\u001b[0m plt\u001b[38;5;241m.\u001b[39mscatter(temperatures, \u001b[38;5;28mabs\u001b[39m(\u001b[43mmagnetizationAverage_perParticle\u001b[49m))\n",
      "\u001b[0;31mNameError\u001b[0m: name 'magnetizationAverage_perParticle' is not defined"
     ]
    },
    {
     "data": {
      "image/png": "[encoded data removed]",
      "text/plain": [
       "<Figure size 640x480 with 1 Axes>"
      ]
     },
     "metadata": {},
     "output_type": "display_data"
    }
   ],
   "source": [
    "Temperature_analytical = np.arange(0,3,0.01)\n",
    "\n",
    "plt.plot(Temperature_analytical, analytical_magnetization(Temperature_analytical))\n",
    "plt.scatter(temperatures, abs(magnetizationAverage_perParticle))"
   ]
  }
 ],
 "metadata": {
  "kernelspec": {
   "display_name": "jonas",
   "language": "python",
   "name": "python3"
  },
  "language_info": {
   "codemirror_mode": {
    "name": "ipython",
    "version": 3
   },
   "file_extension": ".py",
   "mimetype": "text/x-python",
   "name": "python",
   "nbconvert_exporter": "python",
   "pygments_lexer": "ipython3",
   "version": "3.11.2"
  }
 },
 "nbformat": 4,
 "nbformat_minor": 2
}
