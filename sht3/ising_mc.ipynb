{
 "cells": [
  {
   "cell_type": "markdown",
   "metadata": {
    "ExecuteTime": {
     "end_time": "2019-03-28T11:06:57.487337Z",
     "start_time": "2019-03-28T11:06:57.484700Z"
    },
    "heading_collapsed": true
   },
   "source": [
    "# Imports"
   ]
  },
  {
   "cell_type": "code",
   "execution_count": 1,
   "metadata": {
    "ExecuteTime": {
     "end_time": "2019-03-20T13:15:59.622865Z",
     "start_time": "2019-03-20T13:15:59.343313Z"
    },
    "hidden": true
   },
   "outputs": [],
   "source": [
    "%matplotlib inline\n",
    "from numpy import *"
   ]
  },
  {
   "cell_type": "markdown",
   "metadata": {},
   "source": [
    "# Simulation code"
   ]
  },
  {
   "cell_type": "code",
   "execution_count": 2,
   "metadata": {
    "ExecuteTime": {
     "end_time": "2019-03-20T12:56:49.605882Z",
     "start_time": "2019-03-20T12:56:49.598267Z"
    }
   },
   "outputs": [],
   "source": [
    "def init_config(N,strategy):\n",
    "    \"\"\"Initializes a configurations.\n",
    "    \n",
    "    strategy -  one of random / all-up / all-down\n",
    "    \"\"\"\n",
    "    if strategy == \"random\":\n",
    "        return 2*random.randint(0,2,N)-1\n",
    "    elif strategy == \"all-up\":\n",
    "        return ones((N,),dtype=int)\n",
    "    elif strategy == \"all-down\":\n",
    "        return -1*ones((N,),dtype=int)\n",
    "    else:\n",
    "        raise ValueError(\"Unknown strategy in init_config\")"
   ]
  },
  {
   "cell_type": "code",
   "execution_count": 3,
   "metadata": {
    "ExecuteTime": {
     "end_time": "2019-03-20T13:13:25.450873Z",
     "start_time": "2019-03-20T13:13:25.378682Z"
    }
   },
   "outputs": [],
   "source": [
    "ASSERT_EPS = 1.0e-7\n",
    "\n",
    "class IsingModelMC_1D(object):\n",
    "    \"Implementation of a Metropolis Monte Carlo simulation of the 1d Ising model\"\n",
    "    \n",
    "    def __init__(self,pars):\n",
    "        \"\"\"\n",
    "        Constructor - initializes simulation\n",
    "        \n",
    "        pars - dictionary that contains parameters of the simulation. The following keys\n",
    "               are required:\n",
    "               -) system_size (int > 0)\n",
    "               -) init_strategy (random / all-up / all-down)\n",
    "               -) boundary_conditions (free / pbc)\n",
    "               -) h_over_j (float)\n",
    "               -) T (float > 0)\n",
    "        \"\"\"\n",
    "        # PARAMETERS\n",
    "        self.N = int(pars[\"system_size\"])\n",
    "        if self.N <= 0:\n",
    "            raise ValueError(\"system_size must be larger than 0\")\n",
    "        \n",
    "        if pars[\"boundary_conditions\"] == \"pbc\":\n",
    "            self.pbc = True\n",
    "        elif pars[\"boundary_conditions\"] == \"free\":\n",
    "            self.pbc = False\n",
    "        else:\n",
    "            raise ValueError(\"Unknown boundary conditions\")\n",
    "        \n",
    "        self.h_over_j = pars[\"h_over_j\"]\n",
    "        self.T = float(pars[\"T\"])        \n",
    "        if self.T <= 0.0:\n",
    "            raise ValueError(\"T must be larger than 0\")\n",
    "        self.beta = 1.0/pars[\"T\"]\n",
    "        \n",
    "        # SIMULATION VARIABLES\n",
    "        self.config = init_config(self.N,pars[\"init_strategy\"])\n",
    "        \n",
    "        # STATISTICAL VARIABLES\n",
    "        self.reset_statistics_variables()\n",
    "            \n",
    "    def reset_statistics_variables(self):\n",
    "        \"Refreshes the values of all variables that are cumulatively updated while the simulation runs\"\n",
    "        self.n_attempted = 0\n",
    "        self.n_accepted = 0\n",
    "        \n",
    "        self.t_timeseries = []\n",
    "        \n",
    "        self.E = self.get_E()\n",
    "        self.E_sum = 0.0\n",
    "        self.E_sum_samples = 0\n",
    "        self.E_timeseries = []\n",
    "        \n",
    "        self.m = self.get_m()\n",
    "        self.m_sum = 0.0\n",
    "        self.m_sum_samples = 0.0\n",
    "        self.m_timeseries = []\n",
    "        self.m_increment = 2.0/self.N\n",
    "        \n",
    "    def __str__(self):\n",
    "        \"Returns a string that contains the current simulation state\"\n",
    "        s = \"****************************************************************\"\n",
    "        s += \"\\n** Ising model MC simulation\"\n",
    "        s += \"\\n- % 10s = %i\"%(\"N\",self.N)\n",
    "        s += \"\\n- % 10s = %s\"%(\"PBC\",\"YES\" if self.pbc else \"NO\")\n",
    "        s += \"\\n- % 10s = %.2f\"%(\"h_over_j\",self.h_over_j)\n",
    "        s += \"\\n- % 10s = %.2f\"%(\"E\",self.E)\n",
    "        s += \"\\n- % 10s = %.2f\"%(\"T\",self.T)\n",
    "        s += \"\\n- % 10s = %.2f\"%(\"beta\",self.beta)\n",
    "        s += \"\\n-- STATISTICS --------------------------------------------------\"\n",
    "        s += \"\\n- % 10s = %.2f\"%(\"E\",self.E)\n",
    "        s += \"\\n- % 10s = %.2f\"%(\"m\",self.m)\n",
    "        s += \"\\n- % 10s = %i\"%(\"n_attempted\",self.n_attempted)\n",
    "        s += \"\\n- % 10s = %i\"%(\"n_accepted\",self.n_accepted)\n",
    "        s += \"\\n- % 10s = %.2f\"%(\"acc_ratio\",float(self.n_accepted)/float(self.n_attempted) if self.n_attempted > 0 else 0.0)\n",
    "        s += \"\\n- CONFIG:\"\n",
    "        s += \"\\n//%s//\"%self.config_to_s()\n",
    "        s += \"\\n****************************************************************\"\n",
    "        return s\n",
    "        \n",
    "    def config_to_s(self):\n",
    "        \"Returns a string that represents the current configuration\"\n",
    "        s = \"%s\"%('+' if self.config[0] == 1 else '-')\n",
    "        for i in range(1,self.N):\n",
    "            s += (\" +\" if self.config[i] == 1 else \" -\")\n",
    "        return s\n",
    "    \n",
    "    def reset_cumulative_variables(self):\n",
    "        \"Update all variables that are cumulatively tracked while the simulation is running\"\n",
    "        self.m = self.get_m()\n",
    "        self.E = self.get_E()\n",
    "\n",
    "    def print(self):\n",
    "        \"Print the current simulation state\"\n",
    "        print(str(self))\n",
    "\n",
    "    def get_E_single(self,i):\n",
    "        \"\"\"Return the contribution of spin i to the total energy\n",
    "        \n",
    "        Pairwise energies are split evenly between the two particles involved\"\"\"\n",
    "        nbs = self.get_neighbors(i)\n",
    "        sum_E = 0.0\n",
    "        me = self.config[i]\n",
    "        for j in nbs:\n",
    "            sum_E += -0.5*me*self.config[j]\n",
    "        sum_E += -self.h_over_j*me\n",
    "        return sum_E\n",
    "    \n",
    "    def get_m(self):\n",
    "        \"Return the current magnetization\"\n",
    "        sum_m = 0\n",
    "        for i in range(self.N):\n",
    "            sum_m += self.config[i]\n",
    "        return sum_m/self.N\n",
    "        \n",
    "    def do_sweep(self,debug_level=0):\n",
    "        \"Perform one simulation sweep that consists of (number of particles) MC moves\"\n",
    "        for i in range(self.N):\n",
    "            if debug_level >= 2:\n",
    "                print(\"* Doing move % 5i / % 5i\"%(i+1,self.N))\n",
    "            self.do_move(debug_level=debug_level)\n",
    "            \n",
    "    def accept_move(self,i,dE,debug_level=0):\n",
    "        \"\"\"Accept a flip of spin i\n",
    "        \n",
    "        If debug_level >= 3 or higher a consistency check of the cumulative variables E\n",
    "        and m is performed. If debug_level >= 4 the state of the system before the move \n",
    "        is accepted is printed.\n",
    "        \"\"\"\n",
    "        if debug_level >= 4:\n",
    "            self.print()\n",
    "        self.n_accepted += 1\n",
    "        self.m -= self.m_increment*self.config[i]\n",
    "        self.config[i] *= -1\n",
    "        self.E += dE\n",
    "        if debug_level >= 3:\n",
    "            assert fabs(self.m - self.get_m()) < ASSERT_EPS, \"inconsistent magnetization: running m = %.8f != %.8f = summed m\"%(self.m,self.get_m())\n",
    "            assert fabs(self.E - self.get_E()) < ASSERT_EPS, \"inconsistent energy: running E = %.8f != %.8f = summed E\"%(self.E,self.get_E())\n",
    "\n",
    "        \n",
    "    def do_stats(self,i,debug_level=0):\n",
    "        \"Update the statistics based on the current state of the system\"\n",
    "        self.t_timeseries.append(i)\n",
    "        \n",
    "        self.E_sum += self.E\n",
    "        self.E_sum_samples += 1\n",
    "        self.E_timeseries.append(self.E)\n",
    "        \n",
    "        # There used to be a bug here (extra division by N). m_sum is the\n",
    "        # sum over all observations, so for the actual average, you have\n",
    "        # to divide by the number of observations later.\n",
    "        self.m_sum += self.m    \n",
    "        self.m_sum_samples += 1\n",
    "        self.m_timeseries.append(self.m)\n",
    "        \n",
    "    def print_stats_header(self):\n",
    "        \"Print a header line for the statistics output\"\n",
    "        s = \"% 10s\"%\"t\"\n",
    "        s += \" | % 10s\"%\"MAGN\"\n",
    "        s += \" | % 10s\"%\"AVG MAGN\"\n",
    "        s += \" | % 10s\"%\"ENERGY\"\n",
    "        s += \" | % 10s\"%\"AVG ENERGY\"\n",
    "        s += \" | % 10s\"%\"ACC RATIO\"\n",
    "        print(s)\n",
    "        \n",
    "    def print_stats(self,i):\n",
    "        \"Print the statistics output\"\n",
    "        s = \"% 10s\"%(\"% 8i\"%i) # timestep\n",
    "        \n",
    "        s += \" | % 10s\"%(\"% 8.2f\"%self.m)\n",
    "        avg_m = self.m_sum / self.m_sum_samples if self.m_sum_samples > 0 else 0.0\n",
    "        s += \" | % 10s\"%(\"% 8.2f\"%avg_m)\n",
    "        \n",
    "        s += \" | % 10s\"%(\"% 8.2f\"%self.E)\n",
    "        avg_E = self.E_sum / self.E_sum_samples if self.E_sum_samples > 0 else 0.0\n",
    "        s += \" | % 10s\"%(\"% 8.2f\"%avg_E)\n",
    "        \n",
    "        acc_ratio = float(self.n_accepted)/float(self.n_attempted) if self.n_attempted > 0 else 0.0\n",
    "        s += \" | % 10s\"%(\"% 8.2f\"%acc_ratio)\n",
    "        print(s)\n",
    "        \n",
    "    def run(self,n_sweeps,pars,debug_level=0):\n",
    "        \"\"\"Run a simulation\n",
    "        \n",
    "        n_sweeps - int: Number of sweeps to be performed\n",
    "        pars - dict: parameters used for the simulation. Must include keys i_stats and i_stats_out\n",
    "        debug_level - int: 0 or larger, controls level of debug output\n",
    "        \n",
    "        \"\"\"\n",
    "        i_stats = int(pars[\"i_stats\"])\n",
    "        i_stats_out = int(pars[\"i_stats_out\"]) if i_stats > 0 else 0\n",
    "        if i_stats_out > 0: \n",
    "            self.print_stats_header()\n",
    "        for i in range(n_sweeps):\n",
    "            self.do_move(debug_level=debug_level)\n",
    "            if i_stats > 0 and (i % i_stats == 0):\n",
    "                self.do_stats(i)\n",
    "            if i_stats_out > 0 and (i % i_stats_out == 0):\n",
    "                self.print_stats(i)\n",
    "            if i % 10000 == 0:\n",
    "                self.reset_cumulative_variables()\n",
    "                \n",
    "    def get_timeseries(self):\n",
    "        \"\"\"Return timeseries tracked while the last simulation was run\n",
    "        \n",
    "        Returns a dictionary with the name of variable as key and numpy.ndarray as values\n",
    "        \"\"\"\n",
    "        return dict(\n",
    "            t = array(self.t_timeseries),\n",
    "            m = array(self.m_timeseries),\n",
    "            E = array(self.E_timeseries)\n",
    "        )\n",
    "    \n",
    "    ##########################################################################################################\n",
    "    ## METHODS TO IMPLEMENT                                                                                 ##\n",
    "    ##########################################################################################################    \n",
    "            \n",
    "    def get_neighbors(self,i):\n",
    "        \"Return the neighbors of spin i as an iterable (list or tuple)\"\n",
    "        ## -- START IMPLEMENTING HERE\n",
    "\n",
    "        if i < 0 or i > self.N -1:\n",
    "            raise ValueError(\"index outside of bounds.\")\n",
    "\n",
    "        index = i\n",
    "        \n",
    "        neighbors = array([index-1,index+1])\n",
    "        check_pbc = self.pbc | ((neighbors >= 0) & (neighbors < self.N))\n",
    "\n",
    "        return (neighbors[check_pbc] % self.N).tolist()\n",
    "\n",
    "\n",
    "        ## -- STOP IMPLEMENTING HERE\n",
    "        return neighbors\n",
    "    \n",
    "    def get_E(self):\n",
    "        \"Return the total current total energy of the system\"\n",
    "        E = 0.0\n",
    "        ## -- START IMPLEMENTING HERE\n",
    "        # Calculate total potential energy of the system\n",
    "        # Use the get_neighbors function you implemented above and self.get_E_single\n",
    "        for i in range(self.N):\n",
    "            E += self.get_E_single(i)\n",
    "        \n",
    "        ## -- STOP IMPLEMENTING HERE\n",
    "        \n",
    "        return E\n",
    "    \n",
    "    def get_dE_single(self,i):\n",
    "        \"Return the change in energy of particle i is flipped\"\n",
    "        dE = 0.0\n",
    "        ## -- START IMPLEMENTING HERE\n",
    "        # Calculate the change in potential energy if spin i were to be flipped\n",
    "        # Use the get_neighbors function you implemented above\n",
    "\n",
    "        neighbors = self.get_neighbors(i)\n",
    "\n",
    "        current_spin = self.config[i]\n",
    "        new_spin = -1*current_spin\n",
    "        spin_change = new_spin - current_spin\n",
    "\n",
    "        # pair spin change\n",
    "        for neighbor in neighbors:\n",
    "            dE -= spin_change * self.config[neighbor]\n",
    "\n",
    "        # Magnetic field spin change\n",
    "        dE += -self.h_over_j * spin_change\n",
    "        \n",
    "        ## -- STOP IMPLEMENTING HERE\n",
    "        return dE\n",
    "    \n",
    "    def acceptance(self,dE,debug_level=0):\n",
    "        \"Return true if Metropolis MC acceptance criterion is accepted - false otherwise\"\n",
    "        ## -- START IMPLEMENTING HERE\n",
    "        # Implement the Metropolis acceptance criterion. dE is the difference in potential energy\n",
    "        \n",
    "        if dE <= 0 or random.rand() < exp(-dE*(self.T+1e-12)**(-1)):\n",
    "            return True\n",
    "        else:\n",
    "            return False\n",
    "\n",
    "        ## -- STOP IMPLEMENTING HERE\n",
    "    \n",
    "    def do_move(self,debug_level=0):\n",
    "        \"Perform a single Metropolis MC move including an acceptance test\"\n",
    "        accept = False\n",
    "        ## -- START IMPLEMENTING HERE\n",
    "        i = random.choice(self.N)\n",
    "        dE = self.get_dE_single(i)\n",
    "\n",
    "        accept = self.acceptance(dE, debug_level=debug_level)\n",
    "        ## -- STOP IMPLEMENTING HERE\n",
    "        \n",
    "        self.n_attempted += 1\n",
    "        if accept:\n",
    "            self.accept_move(i,dE,debug_level=debug_level)\n",
    "        else:\n",
    "            pass"
   ]
  },
  {
   "cell_type": "markdown",
   "metadata": {},
   "source": [
    "# Initialization"
   ]
  },
  {
   "cell_type": "code",
   "execution_count": 4,
   "metadata": {
    "ExecuteTime": {
     "end_time": "2019-03-20T13:13:35.864136Z",
     "start_time": "2019-03-20T13:13:33.882430Z"
    }
   },
   "outputs": [
    {
     "name": "stdout",
     "output_type": "stream",
     "text": [
      "****************************************************************\n",
      "** Ising model MC simulation\n",
      "-          N = 1000\n",
      "-        PBC = YES\n",
      "-   h_over_j = 0.00\n",
      "-          E = -1000.00\n",
      "-          T = 2.10\n",
      "-       beta = 0.48\n",
      "-- STATISTICS --------------------------------------------------\n",
      "-          E = -1000.00\n",
      "-          m = 1.00\n",
      "- n_attempted = 0\n",
      "- n_accepted = 0\n",
      "-  acc_ratio = 0.00\n",
      "- CONFIG:\n",
      "//+ + + + + + + + + + + + + + + + + + + + + + + + + + + + + + + + + + + + + + + + + + + + + + + + + + + + + + + + + + + + + + + + + + + + + + + + + + + + + + + + + + + + + + + + + + + + + + + + + + + + + + + + + + + + + + + + + + + + + + + + + + + + + + + + + + + + + + + + + + + + + + + + + + + + + + + + + + + + + + + + + + + + + + + + + + + + + + + + + + + + + + + + + + + + + + + + + + + + + + + + + + + + + + + + + + + + + + + + + + + + + + + + + + + + + + + + + + + + + + + + + + + + + + + + + + + + + + + + + + + + + + + + + + + + + + + + + + + + + + + + + + + + + + + + + + + + + + + + + + + + + + + + + + + + + + + + + + + + + + + + + + + + + + + + + + + + + + + + + + + + + + + + + + + + + + + + + + + + + + + + + + + + + + + + + + + + + + + + + + + + + + + + + + + + + + + + + + + + + + + + + + + + + + + + + + + + + + + + + + + + + + + + + + + + + + + + + + + + + + + + + + + + + + + + + + + + + + + + + + + + + + + + + + + + + + + + + + + + + + + + + + + + + + + + + + + + + + + + + + + + + + + + + + + + + + + + + + + + + + + + + + + + + + + + + + + + + + + + + + + + + + + + + + + + + + + + + + + + + + + + + + + + + + + + + + + + + + + + + + + + + + + + + + + + + + + + + + + + + + + + + + + + + + + + + + + + + + + + + + + + + + + + + + + + + + + + + + + + + + + + + + + + + + + + + + + + + + + + + + + + + + + + + + + + + + + + + + + + + + + + + + + + + + + + + + + + + + + + + + + + + + + + + + + + + + + + + + + + + + + + + + + + + + + + + + + + + + + + + + + + + + + + + + + + + + + + + + + + + + + + + + + + + + + + + + + + + + + + + + + + + + + + + + + + + + + + + + + + + + + + + + + + + + + + + + + + + + + + + + + + + + + + + + + + + + + + + + + + + + + + + + + + + + + + + + + + + + + + + + + + + + + + + + + + + + + + + + + + + + + + + + + + + + + + + + + + + + + + + + + + + + + + + + + + + + + + + + + + + + + + + + + + + + + + + + + + + + + + + + + + + + + + + + + + + + + + + + + + + + + + + + + + + + + + + + + + + + + + + + + + + + + + + + + + + + + + + + + + + + + +//\n",
      "****************************************************************\n"
     ]
    }
   ],
   "source": [
    "pars = dict(\n",
    "    system_size = 1000,\n",
    "    h_over_j = 0.0,\n",
    "    init_strategy = \"all-up\",\n",
    "    boundary_conditions = \"pbc\",\n",
    "    T=2.1,\n",
    "    i_stats = 10,\n",
    "    i_stats_out = 10000\n",
    ")\n",
    "\n",
    "system = IsingModelMC_1D(pars)\n",
    "system.print()"
   ]
  },
  {
   "cell_type": "markdown",
   "metadata": {},
   "source": [
    "# Run"
   ]
  },
  {
   "cell_type": "code",
   "execution_count": 5,
   "metadata": {
    "ExecuteTime": {
     "end_time": "2019-03-20T13:13:35.864136Z",
     "start_time": "2019-03-20T13:13:33.882430Z"
    }
   },
   "outputs": [
    {
     "name": "stdout",
     "output_type": "stream",
     "text": [
      "         t |       MAGN |   AVG MAGN |     ENERGY | AVG ENERGY |  ACC RATIO\n",
      "         0 |       1.00 |       1.00 |   -1000.00 |   -1000.00 |       0.00\n",
      "     10000 |       0.05 |       0.30 |    -436.00 |    -530.37 |       0.50\n",
      "     20000 |       0.04 |       0.19 |    -468.00 |    -478.21 |       0.53\n",
      "     30000 |       0.04 |       0.14 |    -452.00 |    -469.62 |       0.54\n",
      "     40000 |      -0.05 |       0.12 |    -432.00 |    -462.35 |       0.54\n",
      "     50000 |      -0.12 |       0.08 |    -452.00 |    -456.70 |       0.55\n",
      "     60000 |       0.09 |       0.06 |    -460.00 |    -453.96 |       0.55\n",
      "     70000 |      -0.04 |       0.06 |    -468.00 |    -451.14 |       0.55\n",
      "     80000 |      -0.03 |       0.05 |    -408.00 |    -449.40 |       0.55\n",
      "     90000 |      -0.06 |       0.04 |    -436.00 |    -447.06 |       0.55\n",
      "****************************************************************\n",
      "** Ising model MC simulation\n",
      "-          N = 1000\n",
      "-        PBC = YES\n",
      "-   h_over_j = 0.00\n",
      "-          E = -440.00\n",
      "-          T = 2.10\n",
      "-       beta = 0.48\n",
      "-- STATISTICS --------------------------------------------------\n",
      "-          E = -440.00\n",
      "-          m = 0.05\n",
      "- n_attempted = 100000\n",
      "- n_accepted = 55440\n",
      "-  acc_ratio = 0.55\n",
      "- CONFIG:\n",
      "//+ + + + + - + + - + + + + + + - - - - - - - - - - - + + + + + - - - - + + + + + + - - - - - - + + - - - + + + + - - - - + + + + + + + - + + - + - + + + + - + + - - - + - + + + + + + + + - - + + + + + + - - - + + + + + + + - - - - - + + - - + - - - + + + + + + + + + - + - + + + + + + + + - + - + - - - - - - + + - - - - - - - - - - - - - + + + + + + + + + - + + + + + + + + - + - - + - - + + - - + - - - - + + + - + - - + + - + + - + + - + - - - - - + + - - + + + + - - - - - + + - + - + + + + + - + - + + + - - - + + + + - - + + - - - - - + + + + + - - - + + + + + - + + + + + + - - + + - - - - - + + - - - - - - - - - + + - - - - + + + + + - - - - - - - - + + + + + + + + + + - - - - - - + + + + + + - + + + - - + + + + + + - - - - - - + + + + + + - - - - - - - + + + + + + - - - - + + + + + + + - - - + + - - - + + + + + + + + + + - - - + - - - - - + + - - - - - - - - + + + + - - - - - - - - - + - - - + + + + + + - - - + + - - - - - + + + + + + + + + + + + + + + + + + + + + + + + - - + + + - + - - - + + + - - - - + + + + + - - - - - - - - - - - - + + + - + - - - - - + + + + + - - + + - + + - + + + + + - + - - - - - - - - - - - + + + - - - + + - - - - + + + - - - - + + + + + - + - - + - + + + + + + + + - - - - + - - - + + + + - + - - + + + - + + - + + - - - + + - - - - - + + + + + + + - - - - + - + + + + + + + + + - - + + + + + - - - - - - - - + + + + + - - - + - - - - + + + + + - - - - - - - - - + + + + - - - + + + + - - - - - - - - - - + + - - - - - - - - - - + + + - + - + + - - - + + + - + - + + + + + + + + + + + + + + + + - - - - - - - - - - - - + + + + + + - - - + + + + + - + + + + + + + + + + + + - - + + - - - - - - + + + + - - - + + + + - - - - - + + + - - - - + - - - + + + + + + - + + - - - + + - + + - - - + + + + + + + + + + - - + - + + + - + - - - - - - - - - - + - - + + + + - + + - - - - + + + + + - - + + + + - - - - + + - - - - - - - - - - + + + + - - - - - - - + + + + - - - - - - - - - - - + + + + + + - + + - - - - - + - + + + - + + + + + - + + + - + + + + - - +//\n",
      "****************************************************************\n"
     ]
    }
   ],
   "source": [
    "system.run(100000,pars,debug_level=0)\n",
    "system.print()"
   ]
  },
  {
   "cell_type": "markdown",
   "metadata": {},
   "source": [
    "## 10 Correlation functions\n",
    "\n",
    "Autocorrelation function\n",
    "\n",
    "$$\n",
    "C_m(k) = \\frac{\\langle m(t)m(t+k)\\rangle - \\langle m(t)\\rangle\\langle m(t+k) \\rangle}{\\langle m^2\\rangle - \\langle m \\rangle ^2}\n",
    "$$"
   ]
  },
  {
   "cell_type": "code",
   "execution_count": 6,
   "metadata": {},
   "outputs": [
    {
     "name": "stdout",
     "output_type": "stream",
     "text": [
      "****************************************************************\n",
      "** Ising model MC simulation\n",
      "-          N = 100\n",
      "-        PBC = YES\n",
      "-   h_over_j = 0.00\n",
      "-          E = -100.00\n",
      "-          T = 0.40\n",
      "-       beta = 2.50\n",
      "-- STATISTICS --------------------------------------------------\n",
      "-          E = -100.00\n",
      "-          m = 1.00\n",
      "- n_attempted = 0\n",
      "- n_accepted = 0\n",
      "-  acc_ratio = 0.00\n",
      "- CONFIG:\n",
      "//+ + + + + + + + + + + + + + + + + + + + + + + + + + + + + + + + + + + + + + + + + + + + + + + + + + + + + + + + + + + + + + + + + + + + + + + + + + + + + + + + + + + + + + + + + + + + + + + + + + + +//\n",
      "****************************************************************\n"
     ]
    }
   ],
   "source": [
    "import matplotlib.pyplot as plt\n",
    "\n",
    "pars = dict(\n",
    "    system_size = 100,\n",
    "    h_over_j = 0.0,\n",
    "    init_strategy = \"all-up\",\n",
    "    boundary_conditions = \"pbc\",\n",
    "    T=0.4,\n",
    "    i_stats = 10,\n",
    "    i_stats_out = 10000\n",
    ")\n",
    "\n",
    "system = IsingModelMC_1D(pars)\n",
    "system.print()"
   ]
  },
  {
   "cell_type": "code",
   "execution_count": 7,
   "metadata": {},
   "outputs": [
    {
     "data": {
      "image/png": "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",
      "text/plain": [
       "<Figure size 640x480 with 1 Axes>"
      ]
     },
     "metadata": {},
     "output_type": "display_data"
    }
   ],
   "source": [
    "steps = 1000\n",
    "\n",
    "magnetization = empty(steps)\n",
    "\n",
    "for step in range(steps):\n",
    "    system.do_sweep()\n",
    "    magnetization[step] = system.get_m()\n",
    "\n",
    "plt.plot(arange(steps), magnetization)\n",
    "plt.show()"
   ]
  },
  {
   "cell_type": "code",
   "execution_count": 8,
   "metadata": {},
   "outputs": [],
   "source": [
    "def compute_autocorrelation(steps, magnetization):\n",
    "    autocorr = empty(steps)\n",
    "    for k in range(steps):\n",
    "        m_avg = mean(magnetization[:-k])\n",
    "        m_k_avg = mean(magnetization[k:])\n",
    "        corr = 0.0\n",
    "        for i in range(steps-k):\n",
    "            corr +=  magnetization[i]*magnetization[i+k]\n",
    "        corr /= (steps-k)\n",
    "        autocorr[k] = corr - m_avg * m_k_avg\n",
    "    return autocorr"
   ]
  },
  {
   "cell_type": "code",
<<<<<<< HEAD
   "execution_count": 9,
=======
   "execution_count": 373,
>>>>>>> c46aeed (did some calculations on 1D ising)
   "metadata": {},
   "outputs": [
    {
     "name": "stderr",
     "output_type": "stream",
     "text": [
      "C:\\Users\\jonas\\AppData\\Local\\Packages\\PythonSoftwareFoundation.Python.3.10_qbz5n2kfra8p0\\LocalCache\\local-packages\\Python310\\site-packages\\numpy\\core\\fromnumeric.py:3464: RuntimeWarning: Mean of empty slice.\n",
      "  return _methods._mean(a, axis=axis, dtype=dtype,\n",
      "C:\\Users\\jonas\\AppData\\Local\\Packages\\PythonSoftwareFoundation.Python.3.10_qbz5n2kfra8p0\\LocalCache\\local-packages\\Python310\\site-packages\\numpy\\core\\_methods.py:192: RuntimeWarning: invalid value encountered in scalar divide\n",
      "  ret = ret.dtype.type(ret / rcount)\n"
     ]
    },
    {
     "data": {
      "image/png": "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",
      "text/plain": [
       "<Figure size 640x480 with 1 Axes>"
      ]
     },
     "metadata": {},
     "output_type": "display_data"
    }
   ],
   "source": [
    "magnetization_variance = var(magnetization)\n",
    "\n",
    "normalized_autocorrelation_function = compute_autocorrelation(steps, magnetization) / magnetization_variance\n",
    "\n",
    "plt.plot(arange(steps), normalized_autocorrelation_function)\n",
    "plt.show()"
   ]
  },
  {
   "cell_type": "code",
   "execution_count": 10,
   "metadata": {},
   "outputs": [
    {
     "data": {
      "text/plain": [
       "(array([1., 1.]), array([0., 0.]))"
      ]
     },
     "execution_count": 10,
     "metadata": {},
     "output_type": "execute_result"
    }
   ],
   "source": [
    "def spin_correlation_analytical(r, T, h_over_j):\n",
    "    '''\n",
    "    calculate spin correlation of 0 and r (instead of i and j)\n",
    "    '''\n",
    "    beta = 1.0 / T\n",
    "    h = h_over_j\n",
    "\n",
    "    # gap in eigenvalues of the transfer matrix\n",
    "    Delta = sqrt(exp(-2*beta) + exp(2*beta)*(sinh(beta*h))**2)\n",
    "    lam1 = exp(beta)*cosh(beta*h) + Delta\n",
    "    lam2 = exp(beta)*cosh(beta*h) - Delta\n",
    "\n",
    "    # spontaneous magnetization\n",
    "    m = sinh(beta*h) / sqrt(sinh(beta*h)**2 + exp(-4*beta))\n",
    "\n",
    "    # full two-point function\n",
    "    return m**2 + (1 - m**2) * (lam2/lam1)**r\n",
    "\n",
    "def spin_correlation_numerical(system, steps, r):\n",
    "\n",
    "    if (r >= system.N).any() or (r < 0).any():\n",
    "        raise ValueError(\"Index out of bounds.\")\n",
    "\n",
    "    spin_correlation = empty((steps,len(r)))\n",
    "    for i in range(steps):\n",
    "        for j in range(len(r)):\n",
    "            spin_correlation[i,j] = system.config[0] * system.config[r[j]]\n",
    "            system.do_sweep()\n",
    "    return mean(spin_correlation, axis = 0), std(spin_correlation, axis = 0, ddof= 1)/sqrt(steps)\n",
    "\n",
    "spin_correlation_numerical(system, 200, array([1,5]))"
   ]
  },
  {
   "cell_type": "code",
   "execution_count": 11,
   "metadata": {},
   "outputs": [
    {
     "name": "stdout",
     "output_type": "stream",
     "text": [
      "         t |       MAGN |   AVG MAGN |     ENERGY | AVG ENERGY |  ACC RATIO\n",
      "         0 |      -0.03 |      -0.03 |      16.00 |      16.00 |       1.00\n",
      "         t |       MAGN |   AVG MAGN |     ENERGY | AVG ENERGY |  ACC RATIO\n",
      "         0 |       0.04 |       0.04 |       8.00 |       8.00 |       1.00\n",
      "         t |       MAGN |   AVG MAGN |     ENERGY | AVG ENERGY |  ACC RATIO\n",
      "         0 |      -0.11 |      -0.11 |     -36.00 |     -36.00 |       1.00\n",
      "         t |       MAGN |   AVG MAGN |     ENERGY | AVG ENERGY |  ACC RATIO\n",
      "         0 |       0.02 |       0.02 |     -16.00 |     -16.00 |       1.00\n",
      "         t |       MAGN |   AVG MAGN |     ENERGY | AVG ENERGY |  ACC RATIO\n",
      "         0 |       0.07 |       0.07 |     -32.00 |     -32.00 |       0.00\n",
      "         t |       MAGN |   AVG MAGN |     ENERGY | AVG ENERGY |  ACC RATIO\n",
      "         0 |       0.06 |       0.06 |     -56.00 |     -56.00 |       0.00\n",
      "         t |       MAGN |   AVG MAGN |     ENERGY | AVG ENERGY |  ACC RATIO\n",
      "         0 |      -0.02 |      -0.02 |      -8.00 |      -8.00 |       0.00\n",
      "         t |       MAGN |   AVG MAGN |     ENERGY | AVG ENERGY |  ACC RATIO\n",
      "         0 |       0.06 |       0.06 |      -4.00 |      -4.00 |       1.00\n"
     ]
    }
   ],
   "source": [
    "numerical_spins = empty((len(T_numerical), len(r)))\n",
    "numerical_spins_errors = empty((len(T_numerical), len(r)))\n",
    "for i in range(len(T_numerical)):\n",
    "    pars = dict(\n",
    "        system_size = 500,\n",
    "        h_over_j = 0.0,\n",
    "        init_strategy = \"all-up\",\n",
    "        boundary_conditions = \"pbc\",\n",
    "        T=T_numerical[i], # implement the varying temperatures\n",
    "        i_stats = 10,\n",
    "        i_stats_out = 10000\n",
    "    )\n",
    "\n",
    "    system = IsingModelMC_1D(pars) # initiate the system\n",
    "    system.run(10000,pars) # Equilibrate the system\n",
    "    numerical_spins[i], numerical_spins_errors[i] = spin_correlation_numerical(system, 500, r) # calculate spin correlation"
   ]
  },
  {
   "cell_type": "code",
   "execution_count": 12,
   "metadata": {},
   "outputs": [
    {
     "name": "stderr",
     "output_type": "stream",
     "text": [
      "C:\\Users\\jonas\\AppData\\Local\\Temp\\ipykernel_336\\1678937000.py:9: RuntimeWarning: overflow encountered in exp\n",
      "  Delta = sqrt(exp(-2*beta) + exp(2*beta)*(sinh(beta*h))**2)\n",
      "C:\\Users\\jonas\\AppData\\Local\\Temp\\ipykernel_336\\1678937000.py:9: RuntimeWarning: invalid value encountered in multiply\n",
      "  Delta = sqrt(exp(-2*beta) + exp(2*beta)*(sinh(beta*h))**2)\n",
      "C:\\Users\\jonas\\AppData\\Local\\Temp\\ipykernel_336\\1678937000.py:10: RuntimeWarning: overflow encountered in exp\n",
      "  lam1 = exp(beta)*cosh(beta*h) + Delta\n",
      "C:\\Users\\jonas\\AppData\\Local\\Temp\\ipykernel_336\\1678937000.py:11: RuntimeWarning: overflow encountered in exp\n",
      "  lam2 = exp(beta)*cosh(beta*h) - Delta\n",
      "C:\\Users\\jonas\\AppData\\Local\\Temp\\ipykernel_336\\1678937000.py:14: RuntimeWarning: invalid value encountered in divide\n",
      "  m = sinh(beta*h) / sqrt(sinh(beta*h)**2 + exp(-4*beta))\n"
     ]
    },
    {
     "data": {
      "image/png": "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",
      "text/plain": [
       "<Figure size 640x480 with 1 Axes>"
      ]
     },
     "metadata": {},
     "output_type": "display_data"
    }
   ],
   "source": [
    "colors = ['black', 'blue', 'red', 'orange', 'green']\n",
    "\n",
    "for i in range(len(r)):\n",
    "    #plt.scatter(T_numerical, numerical_spins[:,i], label = f\"r = {r[i]}\", color = colors[i])\n",
    "    plt.plot(T_analytical, spin_correlation_analytical(r[i], T_analytical, 0), color = colors[i])\n",
    "\n",
    "    plt.errorbar(\n",
    "    T_numerical, numerical_spins[:,i],\n",
    "    yerr=numerical_spins_errors[:,i],\n",
    "    fmt='o',           # circle markers\n",
    "    ecolor='tab:gray', # errorbar color\n",
    "    elinewidth=1,      # errorbar line width\n",
    "    capsize=3,         # caps on the errorbars\n",
    "    label = f\"r = {r[i]}\", \n",
    "    color = colors[i],\n",
    "    )\n",
    "\n",
    "plt.legend()\n",
    "plt.xlabel(\"T\")\n",
    "plt.ylabel(rf\"$\\langle s_0 s_r \\rangle$\")\n",
    "plt.show()"
   ]
  }
 ],
 "metadata": {
  "hide_input": false,
  "kernelspec": {
   "display_name": "Python 3",
   "language": "python",
   "name": "python3"
  },
  "language_info": {
   "codemirror_mode": {
    "name": "ipython",
    "version": 3
   },
   "file_extension": ".py",
   "mimetype": "text/x-python",
   "name": "python",
   "nbconvert_exporter": "python",
   "pygments_lexer": "ipython3",
   "version": "3.10.11"
  },
  "toc": {
   "colors": {
    "hover_highlight": "#DAA520",
    "running_highlight": "#FF0000",
    "selected_highlight": "#FFD700"
   },
   "moveMenuLeft": true,
   "nav_menu": {
    "height": "12px",
    "width": "252px"
   },
   "navigate_menu": true,
   "number_sections": true,
   "sideBar": true,
   "threshold": 4,
   "toc_cell": false,
   "toc_section_display": "block",
   "toc_window_display": false
  }
 },
 "nbformat": 4,
 "nbformat_minor": 2
}
