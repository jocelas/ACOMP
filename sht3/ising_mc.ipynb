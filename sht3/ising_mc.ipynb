{
 "cells": [
  {
   "cell_type": "markdown",
   "metadata": {
    "ExecuteTime": {
     "end_time": "2019-03-28T11:06:57.487337Z",
     "start_time": "2019-03-28T11:06:57.484700Z"
    },
    "heading_collapsed": true
   },
   "source": [
    "# Imports"
   ]
  },
  {
   "cell_type": "code",
   "execution_count": 1,
   "metadata": {
    "ExecuteTime": {
     "end_time": "2019-03-20T13:15:59.622865Z",
     "start_time": "2019-03-20T13:15:59.343313Z"
    },
    "hidden": true
   },
   "outputs": [],
   "source": [
    "%matplotlib inline\n",
    "from numpy import *"
   ]
  },
  {
   "cell_type": "markdown",
   "metadata": {},
   "source": [
    "# Simulation code"
   ]
  },
  {
   "cell_type": "code",
   "execution_count": 2,
   "metadata": {
    "ExecuteTime": {
     "end_time": "2019-03-20T12:56:49.605882Z",
     "start_time": "2019-03-20T12:56:49.598267Z"
    }
   },
   "outputs": [],
   "source": [
    "def init_config(N,strategy):\n",
    "    \"\"\"Initializes a configurations.\n",
    "    \n",
    "    strategy -  one of random / all-up / all-down\n",
    "    \"\"\"\n",
    "    if strategy == \"random\":\n",
    "        return 2*random.randint(0,2,N)-1\n",
    "    elif strategy == \"all-up\":\n",
    "        return ones((N,),dtype=int)\n",
    "    elif strategy == \"all-down\":\n",
    "        return -1*ones((N,),dtype=int)\n",
    "    else:\n",
    "        raise ValueError(\"Unknown strategy in init_config\")"
   ]
  },
  {
   "cell_type": "code",
   "execution_count": 3,
   "metadata": {
    "ExecuteTime": {
     "end_time": "2019-03-20T13:13:25.450873Z",
     "start_time": "2019-03-20T13:13:25.378682Z"
    }
   },
   "outputs": [],
   "source": [
    "ASSERT_EPS = 1.0e-7\n",
    "\n",
    "class IsingModelMC_1D(object):\n",
    "    \"Implementation of a Metropolis Monte Carlo simulation of the 1d Ising model\"\n",
    "    \n",
    "    def __init__(self,pars):\n",
    "        \"\"\"\n",
    "        Constructor - initializes simulation\n",
    "        \n",
    "        pars - dictionary that contains parameters of the simulation. The following keys\n",
    "               are required:\n",
    "               -) system_size (int > 0)\n",
    "               -) init_strategy (random / all-up / all-down)\n",
    "               -) boundary_conditions (free / pbc)\n",
    "               -) h_over_j (float)\n",
    "               -) T (float > 0)\n",
    "        \"\"\"\n",
    "        # PARAMETERS\n",
    "        self.N = int(pars[\"system_size\"])\n",
    "        if self.N <= 0:\n",
    "            raise ValueError(\"system_size must be larger than 0\")\n",
    "        \n",
    "        if pars[\"boundary_conditions\"] == \"pbc\":\n",
    "            self.pbc = True\n",
    "        elif pars[\"boundary_conditions\"] == \"free\":\n",
    "            self.pbc = False\n",
    "        else:\n",
    "            raise ValueError(\"Unknown boundary conditions\")\n",
    "        \n",
    "        self.h_over_j = pars[\"h_over_j\"]\n",
    "        self.T = float(pars[\"T\"])        \n",
    "        if self.T <= 0.0:\n",
    "            raise ValueError(\"T must be larger than 0\")\n",
    "        self.beta = 1.0/pars[\"T\"]\n",
    "        \n",
    "        # SIMULATION VARIABLES\n",
    "        self.config = init_config(self.N,pars[\"init_strategy\"])\n",
    "        \n",
    "        # STATISTICAL VARIABLES\n",
    "        self.reset_statistics_variables()\n",
    "            \n",
    "    def reset_statistics_variables(self):\n",
    "        \"Refreshes the values of all variables that are cumulatively updated while the simulation runs\"\n",
    "        self.n_attempted = 0\n",
    "        self.n_accepted = 0\n",
    "        \n",
    "        self.t_timeseries = []\n",
    "        \n",
    "        self.E = self.get_E()\n",
    "        self.E_sum = 0.0\n",
    "        self.E_sum_samples = 0\n",
    "        self.E_timeseries = []\n",
    "        \n",
    "        self.m = self.get_m()\n",
    "        self.m_sum = 0.0\n",
    "        self.m_sum_samples = 0.0\n",
    "        self.m_timeseries = []\n",
    "        self.m_increment = 2.0/self.N\n",
    "        \n",
    "    def __str__(self):\n",
    "        \"Returns a string that contains the current simulation state\"\n",
    "        s = \"****************************************************************\"\n",
    "        s += \"\\n** Ising model MC simulation\"\n",
    "        s += \"\\n- % 10s = %i\"%(\"N\",self.N)\n",
    "        s += \"\\n- % 10s = %s\"%(\"PBC\",\"YES\" if self.pbc else \"NO\")\n",
    "        s += \"\\n- % 10s = %.2f\"%(\"h_over_j\",self.h_over_j)\n",
    "        s += \"\\n- % 10s = %.2f\"%(\"E\",self.E)\n",
    "        s += \"\\n- % 10s = %.2f\"%(\"T\",self.T)\n",
    "        s += \"\\n- % 10s = %.2f\"%(\"beta\",self.beta)\n",
    "        s += \"\\n-- STATISTICS --------------------------------------------------\"\n",
    "        s += \"\\n- % 10s = %.2f\"%(\"E\",self.E)\n",
    "        s += \"\\n- % 10s = %.2f\"%(\"m\",self.m)\n",
    "        s += \"\\n- % 10s = %i\"%(\"n_attempted\",self.n_attempted)\n",
    "        s += \"\\n- % 10s = %i\"%(\"n_accepted\",self.n_accepted)\n",
    "        s += \"\\n- % 10s = %.2f\"%(\"acc_ratio\",float(self.n_accepted)/float(self.n_attempted) if self.n_attempted > 0 else 0.0)\n",
    "        s += \"\\n- CONFIG:\"\n",
    "        s += \"\\n//%s//\"%self.config_to_s()\n",
    "        s += \"\\n****************************************************************\"\n",
    "        return s\n",
    "        \n",
    "    def config_to_s(self):\n",
    "        \"Returns a string that represents the current configuration\"\n",
    "        s = \"%s\"%('+' if self.config[0] == 1 else '-')\n",
    "        for i in range(1,self.N):\n",
    "            s += (\" +\" if self.config[i] == 1 else \" -\")\n",
    "        return s\n",
    "    \n",
    "    def reset_cumulative_variables(self):\n",
    "        \"Update all variables that are cumulatively tracked while the simulation is running\"\n",
    "        self.m = self.get_m()\n",
    "        self.E = self.get_E()\n",
    "\n",
    "    def print(self):\n",
    "        \"Print the current simulation state\"\n",
    "        print(str(self))\n",
    "\n",
    "    def get_E_single(self,i):\n",
    "        \"\"\"Return the contribution of spin i to the total energy\n",
    "        \n",
    "        Pairwise energies are split evenly between the two particles involved\"\"\"\n",
    "        nbs = self.get_neighbors(i)\n",
    "        sum_E = 0.0\n",
    "        me = self.config[i]\n",
    "        for j in nbs:\n",
    "            sum_E += -0.5*me*self.config[j]\n",
    "        sum_E += -self.h_over_j*me\n",
    "        return sum_E\n",
    "    \n",
    "    def get_m(self):\n",
    "        \"Return the current magnetization\"\n",
    "        sum_m = 0\n",
    "        for i in range(self.N):\n",
    "            sum_m += self.config[i]\n",
    "        return sum_m/self.N\n",
    "        \n",
    "    def do_sweep(self,debug_level=0):\n",
    "        \"Perform one simulation sweep that consists of (number of particles) MC moves\"\n",
    "        for i in range(self.N):\n",
    "            if debug_level >= 2:\n",
    "                print(\"* Doing move % 5i / % 5i\"%(i+1,self.N))\n",
    "            self.do_move(debug_level=debug_level)\n",
    "            \n",
    "    def accept_move(self,i,dE,debug_level=0):\n",
    "        \"\"\"Accept a flip of spin i\n",
    "        \n",
    "        If debug_level >= 3 or higher a consistency check of the cumulative variables E\n",
    "        and m is performed. If debug_level >= 4 the state of the system before the move \n",
    "        is accepted is printed.\n",
    "        \"\"\"\n",
    "        if debug_level >= 4:\n",
    "            self.print()\n",
    "        self.n_accepted += 1\n",
    "        self.m -= self.m_increment*self.config[i]\n",
    "        self.config[i] *= -1\n",
    "        self.E += dE\n",
    "        if debug_level >= 3:\n",
    "            assert fabs(self.m - self.get_m()) < ASSERT_EPS, \"inconsistent magnetization: running m = %.8f != %.8f = summed m\"%(self.m,self.get_m())\n",
    "            assert fabs(self.E - self.get_E()) < ASSERT_EPS, \"inconsistent energy: running E = %.8f != %.8f = summed E\"%(self.E,self.get_E())\n",
    "\n",
    "        \n",
    "    def do_stats(self,i,debug_level=0):\n",
    "        \"Update the statistics based on the current state of the system\"\n",
    "        self.t_timeseries.append(i)\n",
    "        \n",
    "        self.E_sum += self.E\n",
    "        self.E_sum_samples += 1\n",
    "        self.E_timeseries.append(self.E)\n",
    "        \n",
    "        # There used to be a bug here (extra division by N). m_sum is the\n",
    "        # sum over all observations, so for the actual average, you have\n",
    "        # to divide by the number of observations later.\n",
    "        self.m_sum += self.m    \n",
    "        self.m_sum_samples += 1\n",
    "        self.m_timeseries.append(self.m)\n",
    "        \n",
    "    def print_stats_header(self):\n",
    "        \"Print a header line for the statistics output\"\n",
    "        s = \"% 10s\"%\"t\"\n",
    "        s += \" | % 10s\"%\"MAGN\"\n",
    "        s += \" | % 10s\"%\"AVG MAGN\"\n",
    "        s += \" | % 10s\"%\"ENERGY\"\n",
    "        s += \" | % 10s\"%\"AVG ENERGY\"\n",
    "        s += \" | % 10s\"%\"ACC RATIO\"\n",
    "        print(s)\n",
    "        \n",
    "    def print_stats(self,i):\n",
    "        \"Print the statistics output\"\n",
    "        s = \"% 10s\"%(\"% 8i\"%i) # timestep\n",
    "        \n",
    "        s += \" | % 10s\"%(\"% 8.2f\"%self.m)\n",
    "        avg_m = self.m_sum / self.m_sum_samples if self.m_sum_samples > 0 else 0.0\n",
    "        s += \" | % 10s\"%(\"% 8.2f\"%avg_m)\n",
    "        \n",
    "        s += \" | % 10s\"%(\"% 8.2f\"%self.E)\n",
    "        avg_E = self.E_sum / self.E_sum_samples if self.E_sum_samples > 0 else 0.0\n",
    "        s += \" | % 10s\"%(\"% 8.2f\"%avg_E)\n",
    "        \n",
    "        acc_ratio = float(self.n_accepted)/float(self.n_attempted) if self.n_attempted > 0 else 0.0\n",
    "        s += \" | % 10s\"%(\"% 8.2f\"%acc_ratio)\n",
    "        print(s)\n",
    "        \n",
    "    def run(self,n_sweeps,pars,debug_level=0):\n",
    "        \"\"\"Run a simulation\n",
    "        \n",
    "        n_sweeps - int: Number of sweeps to be performed\n",
    "        pars - dict: parameters used for the simulation. Must include keys i_stats and i_stats_out\n",
    "        debug_level - int: 0 or larger, controls level of debug output\n",
    "        \n",
    "        \"\"\"\n",
    "        i_stats = int(pars[\"i_stats\"])\n",
    "        i_stats_out = int(pars[\"i_stats_out\"]) if i_stats > 0 else 0\n",
    "        if i_stats_out > 0: \n",
    "            self.print_stats_header()\n",
    "        for i in range(n_sweeps):\n",
    "            self.do_move(debug_level=debug_level)\n",
    "            if i_stats > 0 and (i % i_stats == 0):\n",
    "                self.do_stats(i)\n",
    "            if i_stats_out > 0 and (i % i_stats_out == 0):\n",
    "                self.print_stats(i)\n",
    "            if i % 10000 == 0:\n",
    "                self.reset_cumulative_variables()\n",
    "                \n",
    "    def get_timeseries(self):\n",
    "        \"\"\"Return timeseries tracked while the last simulation was run\n",
    "        \n",
    "        Returns a dictionary with the name of variable as key and numpy.ndarray as values\n",
    "        \"\"\"\n",
    "        return dict(\n",
    "            t = array(self.t_timeseries),\n",
    "            m = array(self.m_timeseries),\n",
    "            E = array(self.E_timeseries)\n",
    "        )\n",
    "    \n",
    "    ##########################################################################################################\n",
    "    ## METHODS TO IMPLEMENT                                                                                 ##\n",
    "    ##########################################################################################################    \n",
    "            \n",
    "    def get_neighbors(self,i):\n",
    "        \"Return the neighbors of spin i as an iterable (list or tuple)\"\n",
    "        ## -- START IMPLEMENTING HERE\n",
    "\n",
    "        if i < 0 or i > self.N -1:\n",
    "            raise ValueError(\"index outside of bounds.\")\n",
    "\n",
    "        index = i\n",
    "        \n",
    "        neighbors = array([index-1,index+1])\n",
    "        check_pbc = self.pbc | ((neighbors >= 0) & (neighbors < self.N))\n",
    "\n",
    "        return (neighbors[check_pbc] % self.N).tolist()\n",
    "\n",
    "\n",
    "        ## -- STOP IMPLEMENTING HERE\n",
    "        return neighbors\n",
    "    \n",
    "    def get_E(self):\n",
    "        \"Return the total current total energy of the system\"\n",
    "        E = 0.0\n",
    "        ## -- START IMPLEMENTING HERE\n",
    "        # Calculate total potential energy of the system\n",
    "        # Use the get_neighbors function you implemented above and self.get_E_single\n",
    "        for i in range(self.N):\n",
    "            E += self.get_E_single(i)\n",
    "        \n",
    "        ## -- STOP IMPLEMENTING HERE\n",
    "        \n",
    "        return E\n",
    "    \n",
    "    def get_dE_single(self,i):\n",
    "        \"Return the change in energy of particle i is flipped\"\n",
    "        dE = 0.0\n",
    "        ## -- START IMPLEMENTING HERE\n",
    "        # Calculate the change in potential energy if spin i were to be flipped\n",
    "        # Use the get_neighbors function you implemented above\n",
    "\n",
    "        neighbors = self.get_neighbors(i)\n",
    "\n",
    "        current_spin = self.config[i]\n",
    "        new_spin = -1*current_spin\n",
    "        spin_change = new_spin - current_spin\n",
    "\n",
    "        # pair spin change\n",
    "        for neighbor in neighbors:\n",
    "            dE -= spin_change * self.config[neighbor]\n",
    "\n",
    "        # Magnetic field spin change\n",
    "        dE += -self.h_over_j * spin_change\n",
    "        \n",
    "        ## -- STOP IMPLEMENTING HERE\n",
    "        return dE\n",
    "    \n",
    "    def acceptance(self,dE,debug_level=0):\n",
    "        \"Return true if Metropolis MC acceptance criterion is accepted - false otherwise\"\n",
    "        ## -- START IMPLEMENTING HERE\n",
    "        # Implement the Metropolis acceptance criterion. dE is the difference in potential energy\n",
    "        \n",
    "        if dE <= 0 or random.rand() < exp(-dE*(self.T+1e-12)**(-1)):\n",
    "            return True\n",
    "        else:\n",
    "            return False\n",
    "\n",
    "        ## -- STOP IMPLEMENTING HERE\n",
    "    \n",
    "    def do_move(self,debug_level=0):\n",
    "        \"Perform a single Metropolis MC move including an acceptance test\"\n",
    "        accept = False\n",
    "        ## -- START IMPLEMENTING HERE\n",
    "        i = random.choice(self.N)\n",
    "        dE = self.get_dE_single(i)\n",
    "\n",
    "        accept = self.acceptance(dE, debug_level=debug_level)\n",
    "        ## -- STOP IMPLEMENTING HERE\n",
    "        \n",
    "        self.n_attempted += 1\n",
    "        if accept:\n",
    "            self.accept_move(i,dE,debug_level=debug_level)\n",
    "        else:\n",
    "            pass"
   ]
  },
  {
   "cell_type": "markdown",
   "metadata": {},
   "source": [
    "# Initialization"
   ]
  },
  {
   "cell_type": "code",
   "execution_count": 4,
   "metadata": {
    "ExecuteTime": {
     "end_time": "2019-03-20T13:13:35.864136Z",
     "start_time": "2019-03-20T13:13:33.882430Z"
    }
   },
   "outputs": [
    {
     "name": "stdout",
     "output_type": "stream",
     "text": [
      "****************************************************************\n",
      "** Ising model MC simulation\n",
      "-          N = 1000\n",
      "-        PBC = YES\n",
      "-   h_over_j = 0.00\n",
      "-          E = -1000.00\n",
      "-          T = 2.10\n",
      "-       beta = 0.48\n",
      "-- STATISTICS --------------------------------------------------\n",
      "-          E = -1000.00\n",
      "-          m = 1.00\n",
      "- n_attempted = 0\n",
      "- n_accepted = 0\n",
      "-  acc_ratio = 0.00\n",
      "- CONFIG:\n",
      "//+ + + + + + + + + + + + + + + + + + + + + + + + + + + + + + + + + + + + + + + + + + + + + + + + + + + + + + + + + + + + + + + + + + + + + + + + + + + + + + + + + + + + + + + + + + + + + + + + + + + + + + + + + + + + + + + + + + + + + + + + + + + + + + + + + + + + + + + + + + + + + + + + + + + + + + + + + + + + + + + + + + + + + + + + + + + + + + + + + + + + + + + + + + + + + + + + + + + + + + + + + + + + + + + + + + + + + + + + + + + + + + + + + + + + + + + + + + + + + + + + + + + + + + + + + + + + + + + + + + + + + + + + + + + + + + + + + + + + + + + + + + + + + + + + + + + + + + + + + + + + + + + + + + + + + + + + + + + + + + + + + + + + + + + + + + + + + + + + + + + + + + + + + + + + + + + + + + + + + + + + + + + + + + + + + + + + + + + + + + + + + + + + + + + + + + + + + + + + + + + + + + + + + + + + + + + + + + + + + + + + + + + + + + + + + + + + + + + + + + + + + + + + + + + + + + + + + + + + + + + + + + + + + + + + + + + + + + + + + + + + + + + + + + + + + + + + + + + + + + + + + + + + + + + + + + + + + + + + + + + + + + + + + + + + + + + + + + + + + + + + + + + + + + + + + + + + + + + + + + + + + + + + + + + + + + + + + + + + + + + + + + + + + + + + + + + + + + + + + + + + + + + + + + + + + + + + + + + + + + + + + + + + + + + + + + + + + + + + + + + + + + + + + + + + + + + + + + + + + + + + + + + + + + + + + + + + + + + + + + + + + + + + + + + + + + + + + + + + + + + + + + + + + + + + + + + + + + + + + + + + + + + + + + + + + + + + + + + + + + + + + + + + + + + + + + + + + + + + + + + + + + + + + + + + + + + + + + + + + + + + + + + + + + + + + + + + + + + + + + + + + + + + + + + + + + + + + + + + + + + + + + + + + + + + + + + + + + + + + + + + + + + + + + + + + + + + + + + + + + + + + + + + + + + + + + + + + + + + + + + + + + + + + + + + + + + + + + + + + + + + + + + + + + + + + + + + + + + + + + + + + + + + + + + + + + + + + + + + + + + + + + + + + + + + + + + + + + + + + + + + + + + + + + + + + + + + + + + + + + + + + + + + + + + + + + + + + + + + + + + +//\n",
      "****************************************************************\n"
     ]
    }
   ],
   "source": [
    "pars = dict(\n",
    "    system_size = 1000,\n",
    "    h_over_j = 0.0,\n",
    "    init_strategy = \"all-up\",\n",
    "    boundary_conditions = \"pbc\",\n",
    "    T=2.1,\n",
    "    i_stats = 10,\n",
    "    i_stats_out = 10000\n",
    ")\n",
    "\n",
    "system = IsingModelMC_1D(pars)\n",
    "system.print()"
   ]
  },
  {
   "cell_type": "markdown",
   "metadata": {},
   "source": [
    "# Run"
   ]
  },
  {
   "cell_type": "code",
   "execution_count": 5,
   "metadata": {
    "ExecuteTime": {
     "end_time": "2019-03-20T13:13:35.864136Z",
     "start_time": "2019-03-20T13:13:33.882430Z"
    }
   },
   "outputs": [
    {
     "name": "stdout",
     "output_type": "stream",
     "text": [
      "         t |       MAGN |   AVG MAGN |     ENERGY | AVG ENERGY |  ACC RATIO\n",
      "         0 |       1.00 |       1.00 |   -1000.00 |   -1000.00 |       0.00\n",
      "     10000 |       0.01 |       0.27 |    -432.00 |    -517.20 |       0.49\n",
      "     20000 |      -0.03 |       0.12 |    -456.00 |    -476.84 |       0.53\n",
      "     30000 |       0.01 |       0.08 |    -452.00 |    -462.79 |       0.54\n",
      "     40000 |      -0.08 |       0.06 |    -460.00 |    -457.31 |       0.54\n",
      "     50000 |      -0.03 |       0.04 |    -444.00 |    -453.01 |       0.55\n",
      "     60000 |      -0.00 |       0.03 |    -384.00 |    -451.82 |       0.55\n",
      "     70000 |      -0.01 |       0.02 |    -452.00 |    -453.82 |       0.55\n",
      "     80000 |       0.06 |       0.02 |    -524.00 |    -454.29 |       0.55\n",
      "     90000 |      -0.06 |       0.02 |    -408.00 |    -454.55 |       0.55\n",
      "****************************************************************\n",
      "** Ising model MC simulation\n",
      "-          N = 1000\n",
      "-        PBC = YES\n",
      "-   h_over_j = 0.00\n",
      "-          E = -480.00\n",
      "-          T = 2.10\n",
      "-       beta = 0.48\n",
      "-- STATISTICS --------------------------------------------------\n",
      "-          E = -480.00\n",
      "-          m = 0.05\n",
      "- n_attempted = 100000\n",
      "- n_accepted = 54919\n",
      "-  acc_ratio = 0.55\n",
      "- CONFIG:\n",
      "//+ - - + - + + + - - - - - - - + + + + + + + + + + + + - - - - - + + + + + + + + + + + + - - + + + - - - - + + + + - - + + + - - - + + + - - - - - + + + - - + - + - - + + + + + - + + + - - + + - - + - - - + - - - - - - - + + - + + - - + + + + + + - - - - - + - - - - - - + + + + + + + + + + + + - - - - + - - + + + + - + + + + + + + + + + + + - - + - - - - - - - - - - - - - - - - - - + + + + + + + + + + - + + + + + + + + + - + + + + + + + + - - - - + + + + + + + + + + + + + + + + + + + + - - - + - + + - - - + + + + + + + + + + + + + - + + + + + + + + + + - - - - + + - + + + + + - + - + + + + + + + - + + + - - - - - + + - + + + + + + + - - + + + + + + + + - - - - - + + - - - - + + + - - - + + + + + + + + + - - - + - - - - - - - + + + + + + + + + - - + - - - - - + + - - + + - - - + + - - - + - - - - - + - - - - - + - - + + + - - + + + - - - + - - - + + + + + + + + + + + + - - - - - - - - - - - - - + + - - + + + + - - - - - - - - - - - - - + + + + + + + + + + + - - + + - - + + - - - + - - - - - - - - - + + - - - + + + - + + - - - - - + - - - - - - - + + - - - - + + + + + + + + + + - - - - - - - + - - - - + - - - - - + + + + + + + + + - + + + - + + + + + + + + - - - - - + + + + + + + - - + + - - - - + + + + - - - - - + + - - - - - + + + + + + - + - - - - - - - - - - + + + + + - - - - - - - + + + + - - - - + + + + + + - + + + + + + + + - - - - - - + + + - + + - - - - - - + + - + - - - + + + + - - - - - + - + + + + + - + - - - - - - - - - - - + + + + - - + + + - - - - - + + + - - - - - + + + + + - - - - - - - - + + + + - - + + + - + + + + - - + + - + + - - + + + - - - - - - + - + + + - - - - + + + + + + + + + + + + - + + - + + + + + - - + + + + - - - + - + - - - + + + + - - - - - - - + - + + - + + + - - + - - + + - - - - - - - - - - - - - - - - - - - - - - + + + + + + + + + + - - + + + + + - + + + + + + + - + + + - - - - - - - - - - - - - - - - + + - - + - - + + + + + + - - - - - + + + + + + + - - + + + - - + + + + - - + - - - - - - - + - - - - + + + + - - - - - - + + + + +//\n",
      "****************************************************************\n"
     ]
    }
   ],
   "source": [
    "system.run(100000,pars,debug_level=0)\n",
    "system.print()"
   ]
  },
  {
   "cell_type": "markdown",
   "metadata": {},
   "source": [
    "## 10 Correlation functions\n",
    "\n",
    "Autocorrelation function\n",
    "\n",
    "$$\n",
    "C_m(k) = \\frac{\\langle m(t)m(t+k)\\rangle - \\langle m(t)\\rangle\\langle m(t+k) \\rangle}{\\langle m^2\\rangle - \\langle m \\rangle ^2}\n",
    "$$"
   ]
  },
  {
   "cell_type": "code",
   "execution_count": 6,
   "metadata": {},
   "outputs": [
    {
     "name": "stdout",
     "output_type": "stream",
     "text": [
      "****************************************************************\n",
      "** Ising model MC simulation\n",
      "-          N = 100\n",
      "-        PBC = YES\n",
      "-   h_over_j = 0.00\n",
      "-          E = -100.00\n",
      "-          T = 0.40\n",
      "-       beta = 2.50\n",
      "-- STATISTICS --------------------------------------------------\n",
      "-          E = -100.00\n",
      "-          m = 1.00\n",
      "- n_attempted = 0\n",
      "- n_accepted = 0\n",
      "-  acc_ratio = 0.00\n",
      "- CONFIG:\n",
      "//+ + + + + + + + + + + + + + + + + + + + + + + + + + + + + + + + + + + + + + + + + + + + + + + + + + + + + + + + + + + + + + + + + + + + + + + + + + + + + + + + + + + + + + + + + + + + + + + + + + + +//\n",
      "****************************************************************\n"
     ]
    }
   ],
   "source": [
    "import matplotlib.pyplot as plt\n",
    "\n",
    "pars = dict(\n",
    "    system_size = 100,\n",
    "    h_over_j = 0.0,\n",
    "    init_strategy = \"all-up\",\n",
    "    boundary_conditions = \"pbc\",\n",
    "    T=0.4,\n",
    "    i_stats = 10,\n",
    "    i_stats_out = 10000\n",
    ")\n",
    "\n",
    "system = IsingModelMC_1D(pars)\n",
    "system.print()"
   ]
  },
  {
   "cell_type": "code",
   "execution_count": 7,
   "metadata": {},
   "outputs": [
    {
     "data": {
      "image/png": "[encoded data removed]",
      "text/plain": [
       "<Figure size 640x480 with 1 Axes>"
      ]
     },
     "metadata": {},
     "output_type": "display_data"
    }
   ],
   "source": [
    "steps = 1000\n",
    "\n",
    "magnetization = empty(steps)\n",
    "\n",
    "for step in range(steps):\n",
    "    system.do_sweep()\n",
    "    magnetization[step] = system.get_m()\n",
    "\n",
    "plt.plot(arange(steps), magnetization)\n",
    "plt.show()"
   ]
  },
  {
   "cell_type": "code",
   "execution_count": 8,
   "metadata": {},
   "outputs": [],
   "source": [
    "def compute_autocorrelation(steps, magnetization):\n",
    "    autocorr = empty(steps)\n",
    "    for k in range(steps):\n",
    "        m_avg = mean(magnetization[:-k])\n",
    "        m_k_avg = mean(magnetization[k:])\n",
    "        corr = 0.0\n",
    "        for i in range(steps-k):\n",
    "            corr +=  magnetization[i]*magnetization[i+k]\n",
    "        corr /= (steps-k)\n",
    "        autocorr[k] = corr - m_avg * m_k_avg\n",
    "    return autocorr"
   ]
  },
  {
   "cell_type": "code",
   "execution_count": 9,
   "metadata": {},
   "outputs": [
    {
     "name": "stderr",
     "output_type": "stream",
     "text": [
      "/home/jonas/lib/python3.11/site-packages/numpy/core/fromnumeric.py:3504: RuntimeWarning: Mean of empty slice.\n",
      "  return _methods._mean(a, axis=axis, dtype=dtype,\n",
      "/home/jonas/lib/python3.11/site-packages/numpy/core/_methods.py:129: RuntimeWarning: invalid value encountered in scalar divide\n",
      "  ret = ret.dtype.type(ret / rcount)\n"
     ]
    },
    {
     "data": {
      "image/png": "[encoded data removed]",
      "text/plain": [
       "<Figure size 640x480 with 1 Axes>"
      ]
     },
     "metadata": {},
     "output_type": "display_data"
    }
   ],
   "source": [
    "magnetization_variance = var(magnetization)\n",
    "\n",
    "normalized_autocorrelation_function = compute_autocorrelation(steps, magnetization) / magnetization_variance\n",
    "\n",
    "plt.plot(arange(steps), normalized_autocorrelation_function)\n",
    "plt.show()"
   ]
  },
  {
   "cell_type": "code",
   "execution_count": null,
   "metadata": {},
   "outputs": [
    {
     "data": {
      "text/plain": [
       "(array([1., 1.]), array([0., 0.]))"
      ]
     },
     "execution_count": 10,
     "metadata": {},
     "output_type": "execute_result"
    }
   ],
   "source": [
    "def spin_correlation_analytical(r, T, h_over_j):\n",
    "    '''\n",
    "    calculate spin correlation of 0 and r (instead of i and j)\n",
    "    '''\n",
    "    beta = 1.0 / T\n",
    "    h = h_over_j\n",
    "\n",
    "    # gap in eigenvalues of the transfer matrix\n",
    "    Delta = sqrt(exp(-2*beta) + exp(2*beta)*(sinh(beta*h))**2)\n",
    "    lam1 = exp(beta)*cosh(beta*h) + Delta\n",
    "    lam2 = exp(beta)*cosh(beta*h) - Delta\n",
    "\n",
    "    # spontaneous magnetization\n",
    "    m = sinh(beta*h) / sqrt(sinh(beta*h)**2 + exp(-4*beta))\n",
    "\n",
    "    # full two-point function\n",
    "    return m**2 + (1 - m**2) * (lam2/lam1)**r\n",
    "\n",
    "def spin_correlation_numerical(system, steps, r):\n",
    "\n",
    "    if (r >= system.N).any() or (r < 0).any():\n",
    "        raise ValueError(\"Index out of bounds.\")\n",
    "\n",
    "    spin_correlation = empty((steps,len(r)))\n",
    "    for i in range(steps):\n",
    "        for j in range(len(r)):\n",
    "            spin_correlation[i,j] = system.config[0] * system.config[r[j]]\n",
    "            system.do_sweep()\n",
    "    return mean(spin_correlation, axis = 0), std(spin_correlation, axis = 0, ddof = 1)/system.N**2\n",
    "\n",
    "spin_correlation_numerical(system, 200, array([1,5]))"
   ]
  },
  {
   "cell_type": "code",
   "execution_count": 45,
   "metadata": {},
   "outputs": [
    {
     "name": "stdout",
     "output_type": "stream",
     "text": [
      "         t |       MAGN |   AVG MAGN |     ENERGY | AVG ENERGY |  ACC RATIO\n",
      "         0 |       1.00 |       1.00 |    -500.00 |    -500.00 |       0.00\n",
      "         t |       MAGN |   AVG MAGN |     ENERGY | AVG ENERGY |  ACC RATIO\n",
      "         0 |       1.00 |       1.00 |    -500.00 |    -500.00 |       0.00\n",
      "         t |       MAGN |   AVG MAGN |     ENERGY | AVG ENERGY |  ACC RATIO\n",
      "         0 |       1.00 |       1.00 |    -500.00 |    -500.00 |       0.00\n",
      "         t |       MAGN |   AVG MAGN |     ENERGY | AVG ENERGY |  ACC RATIO\n",
      "         0 |       1.00 |       1.00 |    -500.00 |    -500.00 |       0.00\n",
      "         t |       MAGN |   AVG MAGN |     ENERGY | AVG ENERGY |  ACC RATIO\n",
      "         0 |       1.00 |       1.00 |    -500.00 |    -500.00 |       0.00\n",
      "         t |       MAGN |   AVG MAGN |     ENERGY | AVG ENERGY |  ACC RATIO\n",
      "         0 |       1.00 |       1.00 |    -500.00 |    -500.00 |       0.00\n",
      "         t |       MAGN |   AVG MAGN |     ENERGY | AVG ENERGY |  ACC RATIO\n",
      "         0 |       1.00 |       1.00 |    -500.00 |    -500.00 |       0.00\n",
      "         t |       MAGN |   AVG MAGN |     ENERGY | AVG ENERGY |  ACC RATIO\n",
      "         0 |       1.00 |       1.00 |    -500.00 |    -500.00 |       0.00\n"
     ]
    }
   ],
   "source": [
    "T_numerical = array([1e-12,0.5,0.7,1,1.5,2,2.3,2.7])\n",
    "T_analytical = arange(1e-12,3,1e-2)\n",
    "r = array([1,2,10,100,250])\n",
    "\n",
    "numerical_spins = empty((len(T_numerical), len(r)))\n",
    "numerical_spins_errors = empty((len(T_numerical), len(r)))\n",
    "for i in range(len(T_numerical)):\n",
    "    pars = dict(\n",
    "        system_size = 500,\n",
    "        h_over_j = 0.0,\n",
    "        init_strategy = \"all-up\",\n",
    "        boundary_conditions = \"pbc\",\n",
    "        T=T_numerical[i], # implement the varying temperatures\n",
    "        i_stats = 10,\n",
    "        i_stats_out = 10000\n",
    "    )\n",
    "\n",
    "    system = IsingModelMC_1D(pars) # initiate the system\n",
    "    system.run(10000,pars) # Equilibrate the system\n",
    "    numerical_spins[i], numerical_spins_errors[i] = spin_correlation_numerical(system, 1000, r) # calculate spin correlation\n",
    "\n",
    "save(\"numericalspins\", [numerical_spins, numerical_spins_errors])"
   ]
  },
  {
   "cell_type": "code",
   "execution_count": 48,
   "metadata": {},
   "outputs": [
    {
     "name": "stderr",
     "output_type": "stream",
     "text": [
      "/tmp/ipykernel_3852/1678937000.py:9: RuntimeWarning: overflow encountered in exp\n",
      "  Delta = sqrt(exp(-2*beta) + exp(2*beta)*(sinh(beta*h))**2)\n",
      "/tmp/ipykernel_3852/1678937000.py:9: RuntimeWarning: invalid value encountered in multiply\n",
      "  Delta = sqrt(exp(-2*beta) + exp(2*beta)*(sinh(beta*h))**2)\n",
      "/tmp/ipykernel_3852/1678937000.py:10: RuntimeWarning: overflow encountered in exp\n",
      "  lam1 = exp(beta)*cosh(beta*h) + Delta\n",
      "/tmp/ipykernel_3852/1678937000.py:11: RuntimeWarning: overflow encountered in exp\n",
      "  lam2 = exp(beta)*cosh(beta*h) - Delta\n",
      "/tmp/ipykernel_3852/1678937000.py:14: RuntimeWarning: invalid value encountered in divide\n",
      "  m = sinh(beta*h) / sqrt(sinh(beta*h)**2 + exp(-4*beta))\n"
     ]
    },
    {
     "data": {
      "image/png": "[encoded data removed]",
      "text/plain": [
       "<Figure size 640x480 with 1 Axes>"
      ]
     },
     "metadata": {},
     "output_type": "display_data"
    }
   ],
   "source": [
    "colors = ['black', 'blue', 'red', 'orange', 'green']\n",
    "\n",
    "x = T_numerical\n",
    "y, y_err = load(\"numericalspins.npy\")\n",
    "\n",
    "for i in range(len(r)):\n",
    "    # plt.scatter(T_numerical, numerical_spins[:,i], label = f\"r = {r[i]}\", color = colors[i])\n",
    "    plt.plot(T_analytical, spin_correlation_analytical(r[i], T_analytical, 0), color = colors[i])\n",
    "\n",
    "    plt.errorbar(\n",
    "    x, y[:,i],\n",
    "    yerr=y_err[:,i]/system.N**2,\n",
    "    fmt='o',           # circle markers\n",
    "    ecolor='tab:gray', # errorbar color\n",
    "    elinewidth=1,      # errorbar line width\n",
    "    capsize=3,         # caps on the errorbars\n",
    "    label = f\"r = {r[i]}\", \n",
    "    color = colors[i],\n",
    "    )\n",
    "\n",
    "plt.legend()\n",
    "plt.xlabel(\"T\")\n",
    "plt.ylabel(rf\"$\\langle s_0 s_r \\rangle$\")\n",
    "plt.show()"
   ]
  }
 ],
 "metadata": {
  "hide_input": false,
  "kernelspec": {
   "display_name": "jonas",
   "language": "python",
   "name": "python3"
  },
  "language_info": {
   "codemirror_mode": {
    "name": "ipython",
    "version": 3
   },
   "file_extension": ".py",
   "mimetype": "text/x-python",
   "name": "python",
   "nbconvert_exporter": "python",
   "pygments_lexer": "ipython3",
   "version": "3.11.2"
  },
  "toc": {
   "colors": {
    "hover_highlight": "#DAA520",
    "running_highlight": "#FF0000",
    "selected_highlight": "#FFD700"
   },
   "moveMenuLeft": true,
   "nav_menu": {
    "height": "12px",
    "width": "252px"
   },
   "navigate_menu": true,
   "number_sections": true,
   "sideBar": true,
   "threshold": 4,
   "toc_cell": false,
   "toc_section_display": "block",
   "toc_window_display": false
  }
 },
 "nbformat": 4,
 "nbformat_minor": 2
}
