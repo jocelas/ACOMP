{
 "cells": [
  {
   "cell_type": "code",
   "execution_count": 19,
   "metadata": {},
   "outputs": [],
   "source": [
    "import numpy as np\n",
    "import matplotlib.pyplot as plt\n",
    "import matplotlib.animation as anim"
   ]
  },
  {
   "cell_type": "code",
   "execution_count": 65,
   "metadata": {},
   "outputs": [
    {
     "ename": "IndexError",
     "evalue": "list index out of range",
     "output_type": "error",
     "traceback": [
      "\u001b[0;31m---------------------------------------------------------------------------\u001b[0m",
      "\u001b[0;31mIndexError\u001b[0m                                Traceback (most recent call last)",
      "Cell \u001b[0;32mIn[65], line 87\u001b[0m\n\u001b[1;32m     84\u001b[0m a_in \u001b[38;5;241m=\u001b[39m randominitial(n)\n\u001b[1;32m     86\u001b[0m \u001b[38;5;28;01mfor\u001b[39;00m i \u001b[38;5;129;01min\u001b[39;00m [\u001b[38;5;241m60\u001b[39m]:\n\u001b[0;32m---> 87\u001b[0m     step, u, a \u001b[38;5;241m=\u001b[39m \u001b[43mconvergence\u001b[49m\u001b[43m(\u001b[49m\u001b[38;5;28;43mint\u001b[39;49m\u001b[43m(\u001b[49m\u001b[38;5;241;43m1e4\u001b[39;49m\u001b[43m)\u001b[49m\u001b[43m,\u001b[49m\u001b[43m \u001b[49m\u001b[43mn\u001b[49m\u001b[43m,\u001b[49m\u001b[43m \u001b[49m\u001b[38;5;241;43m5\u001b[39;49m\u001b[43m,\u001b[49m\u001b[43m \u001b[49m\u001b[43mi\u001b[49m\u001b[43m,\u001b[49m\u001b[43m \u001b[49m\u001b[43ma_in\u001b[49m\u001b[43m,\u001b[49m\u001b[43m \u001b[49m\u001b[43mfname\u001b[49m\u001b[43m \u001b[49m\u001b[38;5;241;43m=\u001b[39;49m\u001b[43m \u001b[49m\u001b[38;5;124;43mf\u001b[39;49m\u001b[38;5;124;43m'\u001b[39;49m\u001b[38;5;124;43manimation_T\u001b[39;49m\u001b[38;5;132;43;01m{\u001b[39;49;00m\u001b[43mi\u001b[49m\u001b[38;5;132;43;01m}\u001b[39;49;00m\u001b[38;5;124;43m.mp4\u001b[39;49m\u001b[38;5;124;43m'\u001b[39;49m\u001b[43m)\u001b[49m\n\u001b[1;32m     88\u001b[0m     plt\u001b[38;5;241m.\u001b[39mplot(step, u)\n\u001b[1;32m     89\u001b[0m     plt\u001b[38;5;241m.\u001b[39mtitle(\u001b[38;5;28mstr\u001b[39m(i))\n",
      "Cell \u001b[0;32mIn[65], line 76\u001b[0m, in \u001b[0;36mconvergence\u001b[0;34m(steps, n, j, T, a_in, fname)\u001b[0m\n\u001b[1;32m     72\u001b[0m     \u001b[38;5;28;01mreturn\u001b[39;00m [im]\n\u001b[1;32m     74\u001b[0m ani \u001b[38;5;241m=\u001b[39m anim\u001b[38;5;241m.\u001b[39mFuncAnimation(fig, update, frames\u001b[38;5;241m=\u001b[39msteps\u001b[38;5;241m/\u001b[39m\u001b[38;5;241m/\u001b[39mskipsteps, interval\u001b[38;5;241m=\u001b[39m\u001b[38;5;241m10\u001b[39m, blit\u001b[38;5;241m=\u001b[39m\u001b[38;5;28;01mTrue\u001b[39;00m)\n\u001b[0;32m---> 76\u001b[0m \u001b[43mani\u001b[49m\u001b[38;5;241;43m.\u001b[39;49m\u001b[43msave\u001b[49m\u001b[43m(\u001b[49m\u001b[43mfname\u001b[49m\u001b[43m,\u001b[49m\u001b[43m \u001b[49m\u001b[43mfps\u001b[49m\u001b[38;5;241;43m=\u001b[39;49m\u001b[38;5;241;43m60\u001b[39;49m\u001b[43m)\u001b[49m\n\u001b[1;32m     78\u001b[0m plt\u001b[38;5;241m.\u001b[39mshow()\n\u001b[1;32m     80\u001b[0m \u001b[38;5;28;01mreturn\u001b[39;00m np\u001b[38;5;241m.\u001b[39marange(steps), energies, a\n",
      "File \u001b[0;32m~/lib/python3.11/site-packages/matplotlib/animation.py:1105\u001b[0m, in \u001b[0;36mAnimation.save\u001b[0;34m(self, filename, writer, fps, dpi, codec, bitrate, extra_args, metadata, extra_anim, savefig_kwargs, progress_callback)\u001b[0m\n\u001b[1;32m   1102\u001b[0m \u001b[38;5;28;01mfor\u001b[39;00m data \u001b[38;5;129;01min\u001b[39;00m \u001b[38;5;28mzip\u001b[39m(\u001b[38;5;241m*\u001b[39m[a\u001b[38;5;241m.\u001b[39mnew_saved_frame_seq() \u001b[38;5;28;01mfor\u001b[39;00m a \u001b[38;5;129;01min\u001b[39;00m all_anim]):\n\u001b[1;32m   1103\u001b[0m     \u001b[38;5;28;01mfor\u001b[39;00m anim, d \u001b[38;5;129;01min\u001b[39;00m \u001b[38;5;28mzip\u001b[39m(all_anim, data):\n\u001b[1;32m   1104\u001b[0m         \u001b[38;5;66;03m# TODO: See if turning off blit is really necessary\u001b[39;00m\n\u001b[0;32m-> 1105\u001b[0m         \u001b[43manim\u001b[49m\u001b[38;5;241;43m.\u001b[39;49m\u001b[43m_draw_next_frame\u001b[49m\u001b[43m(\u001b[49m\u001b[43md\u001b[49m\u001b[43m,\u001b[49m\u001b[43m \u001b[49m\u001b[43mblit\u001b[49m\u001b[38;5;241;43m=\u001b[39;49m\u001b[38;5;28;43;01mFalse\u001b[39;49;00m\u001b[43m)\u001b[49m\n\u001b[1;32m   1106\u001b[0m         \u001b[38;5;28;01mif\u001b[39;00m progress_callback \u001b[38;5;129;01mis\u001b[39;00m \u001b[38;5;129;01mnot\u001b[39;00m \u001b[38;5;28;01mNone\u001b[39;00m:\n\u001b[1;32m   1107\u001b[0m             progress_callback(frame_number, total_frames)\n",
      "File \u001b[0;32m~/lib/python3.11/site-packages/matplotlib/animation.py:1140\u001b[0m, in \u001b[0;36mAnimation._draw_next_frame\u001b[0;34m(self, framedata, blit)\u001b[0m\n\u001b[1;32m   1136\u001b[0m \u001b[38;5;28;01mdef\u001b[39;00m \u001b[38;5;21m_draw_next_frame\u001b[39m(\u001b[38;5;28mself\u001b[39m, framedata, blit):\n\u001b[1;32m   1137\u001b[0m     \u001b[38;5;66;03m# Breaks down the drawing of the next frame into steps of pre- and\u001b[39;00m\n\u001b[1;32m   1138\u001b[0m     \u001b[38;5;66;03m# post- draw, as well as the drawing of the frame itself.\u001b[39;00m\n\u001b[1;32m   1139\u001b[0m     \u001b[38;5;28mself\u001b[39m\u001b[38;5;241m.\u001b[39m_pre_draw(framedata, blit)\n\u001b[0;32m-> 1140\u001b[0m     \u001b[38;5;28;43mself\u001b[39;49m\u001b[38;5;241;43m.\u001b[39;49m\u001b[43m_draw_frame\u001b[49m\u001b[43m(\u001b[49m\u001b[43mframedata\u001b[49m\u001b[43m)\u001b[49m\n\u001b[1;32m   1141\u001b[0m     \u001b[38;5;28mself\u001b[39m\u001b[38;5;241m.\u001b[39m_post_draw(framedata, blit)\n",
      "File \u001b[0;32m~/lib/python3.11/site-packages/matplotlib/animation.py:1768\u001b[0m, in \u001b[0;36mFuncAnimation._draw_frame\u001b[0;34m(self, framedata)\u001b[0m\n\u001b[1;32m   1764\u001b[0m     \u001b[38;5;28mself\u001b[39m\u001b[38;5;241m.\u001b[39m_save_seq \u001b[38;5;241m=\u001b[39m \u001b[38;5;28mself\u001b[39m\u001b[38;5;241m.\u001b[39m_save_seq[\u001b[38;5;241m-\u001b[39m\u001b[38;5;28mself\u001b[39m\u001b[38;5;241m.\u001b[39m_save_count:]\n\u001b[1;32m   1766\u001b[0m \u001b[38;5;66;03m# Call the func with framedata and args. If blitting is desired,\u001b[39;00m\n\u001b[1;32m   1767\u001b[0m \u001b[38;5;66;03m# func needs to return a sequence of any artists that were modified.\u001b[39;00m\n\u001b[0;32m-> 1768\u001b[0m \u001b[38;5;28mself\u001b[39m\u001b[38;5;241m.\u001b[39m_drawn_artists \u001b[38;5;241m=\u001b[39m \u001b[38;5;28;43mself\u001b[39;49m\u001b[38;5;241;43m.\u001b[39;49m\u001b[43m_func\u001b[49m\u001b[43m(\u001b[49m\u001b[43mframedata\u001b[49m\u001b[43m,\u001b[49m\u001b[43m \u001b[49m\u001b[38;5;241;43m*\u001b[39;49m\u001b[38;5;28;43mself\u001b[39;49m\u001b[38;5;241;43m.\u001b[39;49m\u001b[43m_args\u001b[49m\u001b[43m)\u001b[49m\n\u001b[1;32m   1770\u001b[0m \u001b[38;5;28;01mif\u001b[39;00m \u001b[38;5;28mself\u001b[39m\u001b[38;5;241m.\u001b[39m_blit:\n\u001b[1;32m   1772\u001b[0m     err \u001b[38;5;241m=\u001b[39m \u001b[38;5;167;01mRuntimeError\u001b[39;00m(\u001b[38;5;124m'\u001b[39m\u001b[38;5;124mThe animation function must return a sequence \u001b[39m\u001b[38;5;124m'\u001b[39m\n\u001b[1;32m   1773\u001b[0m                        \u001b[38;5;124m'\u001b[39m\u001b[38;5;124mof Artist objects.\u001b[39m\u001b[38;5;124m'\u001b[39m)\n",
      "Cell \u001b[0;32mIn[65], line 71\u001b[0m, in \u001b[0;36mconvergence.<locals>.update\u001b[0;34m(frame)\u001b[0m\n\u001b[1;32m     70\u001b[0m \u001b[38;5;28;01mdef\u001b[39;00m \u001b[38;5;21mupdate\u001b[39m(frame):\n\u001b[0;32m---> 71\u001b[0m     im\u001b[38;5;241m.\u001b[39mset_array(\u001b[43mdata\u001b[49m\u001b[43m[\u001b[49m\u001b[43mframe\u001b[49m\u001b[43m]\u001b[49m)\n\u001b[1;32m     72\u001b[0m     \u001b[38;5;28;01mreturn\u001b[39;00m [im]\n",
      "\u001b[0;31mIndexError\u001b[0m: list index out of range"
     ]
    },
    {
     "data": {
      "image/png": "[encoded data removed]",
      "text/plain": [
       "<Figure size 640x480 with 1 Axes>"
      ]
     },
     "metadata": {},
     "output_type": "display_data"
    }
   ],
   "source": [
    "def energy(a,j):\n",
    "    h = -j * (a * (np.roll(a,1,axis=0) + np.roll(a,1, axis = 1)))\n",
    "    return np.sum(h)\n",
    "\n",
    "\n",
    "def randominitial(n):\n",
    "    b = np.random.choice(2,(n,n))\n",
    "    b[b==0] = -1\n",
    "    return b\n",
    "\n",
    "def probabilities(j,T):\n",
    "\n",
    "    probs = []\n",
    "    dE = np.array([-8,-4.,0.,4.,8.])\n",
    "    dE *= j\n",
    "    \n",
    "    if T == 0:\n",
    "        probs = [1,1,1,0,0]\n",
    "        return dict(zip(dE,probs))\n",
    "    \n",
    "    for de in dE:\n",
    "        probs.append(min(1,np.exp(-de*(T)**(-1))))\n",
    "    return dict(zip(dE, probs))\n",
    "\n",
    "def convergence(steps:int, n,j,T,a_in, fname = 'animation.mp4'):\n",
    "\n",
    "    probs = probabilities(j,T)\n",
    "    \n",
    "    numsteps = 1000\n",
    "    skipsteps = steps//numsteps\n",
    "\n",
    "    a = a_in.copy()\n",
    "\n",
    "    energies = np.empty(steps)\n",
    "\n",
    "    oldenergy = energy(a,j)\n",
    "\n",
    "    data = []\n",
    "\n",
    "    for i in range(steps):\n",
    "        energies[i] = oldenergy\n",
    "\n",
    "        if i % numsteps == 0:\n",
    "            data.append(a)\n",
    "        \n",
    "        \n",
    "        x = np.random.randint(0,n)\n",
    "        y = np.random.randint(0,n)\n",
    "\n",
    "        b = a.copy()\n",
    "        b[x,y] *= -1\n",
    "\n",
    "        dE = j*(a[x,y]-b[x,y])*(a[x,(y+1)%n] + a[(x+1)%n,y] + a[x,y-1] + a[x-1,y])\n",
    "\n",
    "        '''if i % 100000 == 0:\n",
    "            plt.imshow(a)\n",
    "            plt.title(f\"{i}th step\")\n",
    "            plt.show()\n",
    "        '''\n",
    "        \n",
    "        if dE <= 0 or np.random.rand() <= probs[dE]:\n",
    "            a[x,y] *= -1\n",
    "            oldenergy += dE\n",
    "        else:\n",
    "            continue\n",
    "        \n",
    "    fig, ax = plt.subplots()\n",
    "    im = ax.imshow(data[0])\n",
    "\n",
    "    def update(frame):\n",
    "        im.set_array(data[frame])\n",
    "        return [im]\n",
    "\n",
    "    ani = anim.FuncAnimation(fig, update, frames=steps//skipsteps, interval=10, blit=True)\n",
    "\n",
    "    ani.save(fname, fps=60)\n",
    "\n",
    "    plt.show()\n",
    "\n",
    "    return np.arange(steps), energies, a\n",
    "\n",
    "\n",
    "n = 50\n",
    "a_in = randominitial(n)\n",
    "\n",
    "for i in [60]:\n",
    "    step, u, a = convergence(int(1e4), n, 5, i, a_in, fname = f'animation_T{i}.mp4')\n",
    "    plt.plot(step, u)\n",
    "    plt.title(str(i))\n",
    "    plt.show()\n",
    "\n",
    "\n",
    "#plt.imshow(a)\n",
    "#plt.show()"
   ]
  }
 ],
 "metadata": {
  "kernelspec": {
   "display_name": "jonas",
   "language": "python",
   "name": "python3"
  },
  "language_info": {
   "codemirror_mode": {
    "name": "ipython",
    "version": 3
   },
   "file_extension": ".py",
   "mimetype": "text/x-python",
   "name": "python",
   "nbconvert_exporter": "python",
   "pygments_lexer": "ipython3",
   "version": "3.11.2"
  }
 },
 "nbformat": 4,
 "nbformat_minor": 2
}
